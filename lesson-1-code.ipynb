{
 "cells": [
  {
   "cell_type": "code",
   "execution_count": 251,
   "metadata": {},
   "outputs": [],
   "source": [
    "grammar_1 = \"\"\"\n",
    "句子 => 人称 状语 动词 人称 动作\n",
    "人称 => 人称 和 人称 | 特朗普 | 奥特曼 |海绵宝宝 | 杨超越 | 艾莉亚 |小恶魔\n",
    "状语 => 悄悄地 | 静静地 | 若无其事地 | 大言不惭地 | 一脸无辜地 | 满脸痴汉笑地 | 在山上 |在海底 |在月球 |惊恐地\n",
    "动词 => 看着 | 说着 | 听着 | 直播 | 瞪着 | 想着 |等着 |计划着\n",
    "动作 => 尬舞 | 说瞎话 | 加班 | 做蟹黄堡 | 舞剑 | 吃瓜 |慢慢膨胀 |上天 |撕下人皮面具\n",
    "\"\"\""
   ]
  },
  {
   "cell_type": "code",
   "execution_count": 262,
   "metadata": {},
   "outputs": [],
   "source": [
    "grammar_2 = \"\"\"\n",
    "句子 => 时间 的 地点 景致 ， 形容词 人称 地点状语 动作\n",
    "时间 => 数字 月份 | 春天 |秋天 |夏天| 冬天\n",
    "数字 => 1|2|3|4|5|6|7|8|9|10|11|12\n",
    "地点 => 奈良 | 新德里 | 巴塞罗那 |乌鲁木齐 |蟹堡王 |太湖\n",
    "景致 => 鲜花盛开 | 秋高气爽 |万里无云 |人头攒动 |生机勃勃| 瓜果成熟\n",
    "形容词 => null | 开心的 |三五成群的 | 年轻的 |幸福的\n",
    "人称 => 游人 | 渔夫 |沙雕网友 | 一家人 |当地居民 |外星人|马里奥\n",
    "地点状语 => 在树下 |在山上 |在塔上 |在下水道里 |在屋顶上 |在草地上|田地里\n",
    "动作 => 看日出 |看日落 |赏花 |喂小鹿|赏花|野餐 |修水管\n",
    "\"\"\""
   ]
  },
  {
   "cell_type": "code",
   "execution_count": 253,
   "metadata": {},
   "outputs": [],
   "source": [
    "def create_grammar(grammar_str, split='=>', line_split = '\\n'):\n",
    "    grammar = {}\n",
    "    for line in grammar_str.split(line_split):\n",
    "        if not line.strip(): continue\n",
    "        exp,stmt = line.split(split)\n",
    "        grammar[exp.strip()] = [s.split() for s in stmt.split('|')]\n",
    "    return grammar"
   ]
  },
  {
   "cell_type": "code",
   "execution_count": 254,
   "metadata": {},
   "outputs": [],
   "source": [
    "import random"
   ]
  },
  {
   "cell_type": "code",
   "execution_count": 255,
   "metadata": {},
   "outputs": [],
   "source": [
    "choice = random.choice"
   ]
  },
  {
   "cell_type": "code",
   "execution_count": 207,
   "metadata": {},
   "outputs": [],
   "source": [
    "def generate(gram, target):\n",
    "    if target in gram:\n",
    "        new_expanded = choice(gram[target])\n",
    "        return ''.join(generate(gram,t) for t in new_expanded if t!= 'null')\n",
    "    else: return target"
   ]
  },
  {
   "cell_type": "code",
   "execution_count": 211,
   "metadata": {},
   "outputs": [],
   "source": [
    "def generate_n(gram,target,n):\n",
    "    sentence = []\n",
    "    for i in range(n):\n",
    "        sentence.append(generate(gram,target))\n",
    "    return sentence"
   ]
  },
  {
   "cell_type": "code",
   "execution_count": 212,
   "metadata": {},
   "outputs": [],
   "source": [
    "sentence = generate_n(gram = create_grammar(grammar_1),target = '句子',n=10)"
   ]
  },
  {
   "cell_type": "code",
   "execution_count": 213,
   "metadata": {},
   "outputs": [
    {
     "data": {
      "text/plain": [
       "['特朗普和特朗普满脸痴汉笑地想着艾莉亚吃瓜',\n",
       " '奥特曼静静地看着特朗普尬舞',\n",
       " '奥特曼大言不惭地直播奥特曼吃瓜',\n",
       " '艾莉亚一脸无辜地直播海绵宝宝说瞎话',\n",
       " '艾莉亚若无其事地等着奥特曼加班',\n",
       " '艾莉亚若无其事地看着杨超越和艾莉亚做蟹黄堡',\n",
       " '艾莉亚大张旗鼓地想着特朗普和奥特曼做蟹黄堡',\n",
       " '海绵宝宝一脸无辜地直播杨超越尬舞',\n",
       " '奥特曼一脸无辜地看着艾莉亚说瞎话',\n",
       " '海绵宝宝静静地直播海绵宝宝吃瓜']"
      ]
     },
     "execution_count": 213,
     "metadata": {},
     "output_type": "execute_result"
    }
   ],
   "source": [
    "sentence"
   ]
  },
  {
   "cell_type": "code",
   "execution_count": 2,
   "metadata": {},
   "outputs": [],
   "source": [
    "filename = 'D:/jupyter_notebook/source/douban.txt'"
   ]
  },
  {
   "cell_type": "code",
   "execution_count": 3,
   "metadata": {},
   "outputs": [],
   "source": [
    "import pandas as pd"
   ]
  },
  {
   "cell_type": "code",
   "execution_count": 4,
   "metadata": {},
   "outputs": [
    {
     "name": "stderr",
     "output_type": "stream",
     "text": [
      "C:\\Users\\xiaog\\Anaconda3\\lib\\site-packages\\IPython\\core\\interactiveshell.py:3020: DtypeWarning: Columns (0,4) have mixed types. Specify dtype option on import or set low_memory=False.\n",
      "  interactivity=interactivity, compiler=compiler, result=result)\n"
     ]
    }
   ],
   "source": [
    "content = pd.read_csv(filename,encoding='gb18030')"
   ]
  },
  {
   "cell_type": "code",
   "execution_count": 5,
   "metadata": {},
   "outputs": [
    {
     "data": {
      "text/html": [
       "<div>\n",
       "<style scoped>\n",
       "    .dataframe tbody tr th:only-of-type {\n",
       "        vertical-align: middle;\n",
       "    }\n",
       "\n",
       "    .dataframe tbody tr th {\n",
       "        vertical-align: top;\n",
       "    }\n",
       "\n",
       "    .dataframe thead th {\n",
       "        text-align: right;\n",
       "    }\n",
       "</style>\n",
       "<table border=\"1\" class=\"dataframe\">\n",
       "  <thead>\n",
       "    <tr style=\"text-align: right;\">\n",
       "      <th></th>\n",
       "      <th>id</th>\n",
       "      <th>link</th>\n",
       "      <th>name</th>\n",
       "      <th>comment</th>\n",
       "      <th>star</th>\n",
       "    </tr>\n",
       "  </thead>\n",
       "  <tbody>\n",
       "    <tr>\n",
       "      <th>0</th>\n",
       "      <td>1</td>\n",
       "      <td>https://movie.douban.com/subject/26363254/</td>\n",
       "      <td>战狼2</td>\n",
       "      <td>吴京意淫到了脑残的地步，看了恶心想吐</td>\n",
       "      <td>1</td>\n",
       "    </tr>\n",
       "    <tr>\n",
       "      <th>1</th>\n",
       "      <td>2</td>\n",
       "      <td>https://movie.douban.com/subject/26363254/</td>\n",
       "      <td>战狼2</td>\n",
       "      <td>首映礼看的。太恐怖了这个电影，不讲道理的，完全就是吴京在实现他这个小粉红的英雄梦。各种装备轮...</td>\n",
       "      <td>2</td>\n",
       "    </tr>\n",
       "    <tr>\n",
       "      <th>2</th>\n",
       "      <td>3</td>\n",
       "      <td>https://movie.douban.com/subject/26363254/</td>\n",
       "      <td>战狼2</td>\n",
       "      <td>吴京的炒作水平不输冯小刚，但小刚至少不会用主旋律来炒作…吴京让人看了不舒服，为了主旋律而主旋...</td>\n",
       "      <td>2</td>\n",
       "    </tr>\n",
       "    <tr>\n",
       "      <th>3</th>\n",
       "      <td>4</td>\n",
       "      <td>https://movie.douban.com/subject/26363254/</td>\n",
       "      <td>战狼2</td>\n",
       "      <td>凭良心说，好看到不像《战狼1》的续集，完虐《湄公河行动》。</td>\n",
       "      <td>4</td>\n",
       "    </tr>\n",
       "    <tr>\n",
       "      <th>4</th>\n",
       "      <td>5</td>\n",
       "      <td>https://movie.douban.com/subject/26363254/</td>\n",
       "      <td>战狼2</td>\n",
       "      <td>中二得很</td>\n",
       "      <td>1</td>\n",
       "    </tr>\n",
       "  </tbody>\n",
       "</table>\n",
       "</div>"
      ],
      "text/plain": [
       "  id                                        link name  \\\n",
       "0  1  https://movie.douban.com/subject/26363254/  战狼2   \n",
       "1  2  https://movie.douban.com/subject/26363254/  战狼2   \n",
       "2  3  https://movie.douban.com/subject/26363254/  战狼2   \n",
       "3  4  https://movie.douban.com/subject/26363254/  战狼2   \n",
       "4  5  https://movie.douban.com/subject/26363254/  战狼2   \n",
       "\n",
       "                                             comment star  \n",
       "0                                 吴京意淫到了脑残的地步，看了恶心想吐    1  \n",
       "1  首映礼看的。太恐怖了这个电影，不讲道理的，完全就是吴京在实现他这个小粉红的英雄梦。各种装备轮...    2  \n",
       "2  吴京的炒作水平不输冯小刚，但小刚至少不会用主旋律来炒作…吴京让人看了不舒服，为了主旋律而主旋...    2  \n",
       "3                      凭良心说，好看到不像《战狼1》的续集，完虐《湄公河行动》。    4  \n",
       "4                                               中二得很    1  "
      ]
     },
     "execution_count": 5,
     "metadata": {},
     "output_type": "execute_result"
    }
   ],
   "source": [
    "content.head()"
   ]
  },
  {
   "cell_type": "code",
   "execution_count": 6,
   "metadata": {},
   "outputs": [],
   "source": [
    "articles = content['comment'].tolist()"
   ]
  },
  {
   "cell_type": "code",
   "execution_count": 7,
   "metadata": {},
   "outputs": [
    {
     "data": {
      "text/plain": [
       "261497"
      ]
     },
     "execution_count": 7,
     "metadata": {},
     "output_type": "execute_result"
    }
   ],
   "source": [
    "len(articles)"
   ]
  },
  {
   "cell_type": "code",
   "execution_count": 8,
   "metadata": {},
   "outputs": [],
   "source": [
    "import re"
   ]
  },
  {
   "cell_type": "code",
   "execution_count": 9,
   "metadata": {},
   "outputs": [],
   "source": [
    "def token(string):\n",
    "    return re.findall('\\w',string)"
   ]
  },
  {
   "cell_type": "code",
   "execution_count": 10,
   "metadata": {},
   "outputs": [],
   "source": [
    "from collections import Counter"
   ]
  },
  {
   "cell_type": "code",
   "execution_count": 11,
   "metadata": {},
   "outputs": [],
   "source": [
    "import jieba"
   ]
  },
  {
   "cell_type": "code",
   "execution_count": 28,
   "metadata": {},
   "outputs": [],
   "source": [
    "with_jieba_cut = Counter(jieba.cut(articles[1]))"
   ]
  },
  {
   "cell_type": "code",
   "execution_count": 13,
   "metadata": {},
   "outputs": [],
   "source": [
    "articles_clean = [''.join(token(str(a))) for a in articles]"
   ]
  },
  {
   "cell_type": "code",
   "execution_count": 15,
   "metadata": {},
   "outputs": [
    {
     "data": {
      "text/plain": [
       "261497"
      ]
     },
     "execution_count": 15,
     "metadata": {},
     "output_type": "execute_result"
    }
   ],
   "source": [
    "len(articles_clean)"
   ]
  },
  {
   "cell_type": "code",
   "execution_count": 16,
   "metadata": {},
   "outputs": [],
   "source": [
    "with open('articles.txt','w') as f:\n",
    "    for a in articles_clean:\n",
    "        f.write(a+'\\n')"
   ]
  },
  {
   "cell_type": "code",
   "execution_count": 18,
   "metadata": {},
   "outputs": [],
   "source": [
    "def cut(string):return list(jieba.cut(string))"
   ]
  },
  {
   "cell_type": "code",
   "execution_count": 19,
   "metadata": {},
   "outputs": [],
   "source": [
    "TOKEN = []"
   ]
  },
  {
   "cell_type": "code",
   "execution_count": 162,
   "metadata": {},
   "outputs": [],
   "source": [
    "for i,line in enumerate((open('articles.txt'))):\n",
    "    if i>180000:break\n",
    "    TOKEN += cut(line)"
   ]
  },
  {
   "cell_type": "code",
   "execution_count": 163,
   "metadata": {},
   "outputs": [],
   "source": [
    "words_count = Counter(TOKEN)"
   ]
  },
  {
   "cell_type": "code",
   "execution_count": 164,
   "metadata": {},
   "outputs": [],
   "source": [
    "frequiences = [f for w, f in words_count.most_common(1000)]"
   ]
  },
  {
   "cell_type": "code",
   "execution_count": 165,
   "metadata": {},
   "outputs": [],
   "source": [
    "x = [i for i in range(1000)]"
   ]
  },
  {
   "cell_type": "code",
   "execution_count": 166,
   "metadata": {},
   "outputs": [],
   "source": [
    "%matplotlib inline"
   ]
  },
  {
   "cell_type": "code",
   "execution_count": 167,
   "metadata": {},
   "outputs": [],
   "source": [
    "import matplotlib.pyplot as plt"
   ]
  },
  {
   "cell_type": "code",
   "execution_count": 168,
   "metadata": {},
   "outputs": [
    {
     "data": {
      "text/plain": [
       "[<matplotlib.lines.Line2D at 0x238182a3b70>]"
      ]
     },
     "execution_count": 168,
     "metadata": {},
     "output_type": "execute_result"
    },
    {
     "data": {
      "image/png": "[encoded data removed]",
      "text/plain": [
       "<Figure size 432x288 with 1 Axes>"
      ]
     },
     "metadata": {
      "needs_background": "light"
     },
     "output_type": "display_data"
    }
   ],
   "source": [
    "plt.plot(x,frequiences)"
   ]
  },
  {
   "cell_type": "code",
   "execution_count": 169,
   "metadata": {},
   "outputs": [],
   "source": [
    "import numpy as np"
   ]
  },
  {
   "cell_type": "code",
   "execution_count": 170,
   "metadata": {},
   "outputs": [
    {
     "data": {
      "text/plain": [
       "[<matplotlib.lines.Line2D at 0x238182ffe10>]"
      ]
     },
     "execution_count": 170,
     "metadata": {},
     "output_type": "execute_result"
    },
    {
     "data": {
      "image/png": "[encoded data removed]",
      "text/plain": [
       "<Figure size 432x288 with 1 Axes>"
      ]
     },
     "metadata": {
      "needs_background": "light"
     },
     "output_type": "display_data"
    }
   ],
   "source": [
    "plt.plot(x, np.log(frequiences))"
   ]
  },
  {
   "cell_type": "code",
   "execution_count": 171,
   "metadata": {},
   "outputs": [],
   "source": [
    "def prob_1(word):\n",
    "    return words_count[word]/len(TOKEN)"
   ]
  },
  {
   "cell_type": "code",
   "execution_count": 175,
   "metadata": {},
   "outputs": [],
   "source": [
    "TOKEN = [str(t) for t in TOKEN]"
   ]
  },
  {
   "cell_type": "code",
   "execution_count": 176,
   "metadata": {
    "scrolled": true
   },
   "outputs": [],
   "source": [
    "TOKEN_2_GRAM = [''.join(TOKEN[i:i+2]) for i in range(len(TOKEN[:-2]))]"
   ]
  },
  {
   "cell_type": "code",
   "execution_count": 177,
   "metadata": {},
   "outputs": [
    {
     "data": {
      "text/plain": [
       "['吴京意淫', '意淫到', '到了', '了脑残', '脑残的', '的地步', '地步看', '看了', '了恶心', '恶心想']"
      ]
     },
     "execution_count": 177,
     "metadata": {},
     "output_type": "execute_result"
    }
   ],
   "source": [
    "TOKEN_2_GRAM[:10]"
   ]
  },
  {
   "cell_type": "code",
   "execution_count": 143,
   "metadata": {},
   "outputs": [],
   "source": [
    "words_count_2 = Counter(TOKEN_2_GRAM)"
   ]
  },
  {
   "cell_type": "code",
   "execution_count": 144,
   "metadata": {},
   "outputs": [],
   "source": [
    "def prob_1(word):return words_count[word]/len(TOKEN)"
   ]
  },
  {
   "cell_type": "code",
   "execution_count": 145,
   "metadata": {},
   "outputs": [],
   "source": [
    "def prob_2(word1,word2):\n",
    "    if word1+word2 in words_count_2:return words_count_2[word1+word2]/len(TOKEN)\n",
    "    else: return 1/len(TOKEN_2_GRAM)"
   ]
  },
  {
   "cell_type": "code",
   "execution_count": 180,
   "metadata": {},
   "outputs": [],
   "source": [
    "def get_probablity(sentence):\n",
    "    words = cut(sentence)\n",
    "    sentence_pro = 1\n",
    "    for i,word in enumerate(words[:-1]):\n",
    "        next_ = words[i+1]\n",
    "        probability = prob_2(word,next_)\n",
    "        sentence_pro *= probability\n",
    "    return sentence_pro"
   ]
  },
  {
   "cell_type": "code",
   "execution_count": 223,
   "metadata": {},
   "outputs": [],
   "source": [
    "probs = []\n",
    "for s in sentence:\n",
    "    prob = get_probablity(s)\n",
    "    probs.append((s,prob))"
   ]
  },
  {
   "cell_type": "code",
   "execution_count": 224,
   "metadata": {},
   "outputs": [
    {
     "data": {
      "text/plain": [
       "[('特朗普和特朗普满脸痴汉笑地想着艾莉亚吃瓜', 1.8094353217392057e-62),\n",
       " ('奥特曼静静地看着特朗普尬舞', 5.896036504812912e-34),\n",
       " ('奥特曼大言不惭地直播奥特曼吃瓜', 1.4740097633805096e-35),\n",
       " ('艾莉亚一脸无辜地直播海绵宝宝说瞎话', 1.721474144419663e-49),\n",
       " ('艾莉亚若无其事地等着奥特曼加班', 3.902710427874287e-39),\n",
       " ('艾莉亚若无其事地看着杨超越和艾莉亚做蟹黄堡', 8.690817251752993e-70),\n",
       " ('艾莉亚大张旗鼓地想着特朗普和奥特曼做蟹黄堡', 2.0104841253622022e-63),\n",
       " ('海绵宝宝一脸无辜地直播杨超越尬舞', 2.01048369082134e-62),\n",
       " ('奥特曼一脸无辜地看着艾莉亚说瞎话', 6.371773504320412e-42),\n",
       " ('海绵宝宝静静地直播海绵宝宝吃瓜', 1.5929437203748576e-42)]"
      ]
     },
     "execution_count": 224,
     "metadata": {},
     "output_type": "execute_result"
    }
   ],
   "source": [
    "probs"
   ]
  },
  {
   "cell_type": "code",
   "execution_count": 228,
   "metadata": {},
   "outputs": [
    {
     "data": {
      "text/plain": [
       "[('奥特曼静静地看着特朗普尬舞', 5.896036504812912e-34),\n",
       " ('奥特曼大言不惭地直播奥特曼吃瓜', 1.4740097633805096e-35),\n",
       " ('艾莉亚若无其事地等着奥特曼加班', 3.902710427874287e-39),\n",
       " ('奥特曼一脸无辜地看着艾莉亚说瞎话', 6.371773504320412e-42),\n",
       " ('海绵宝宝静静地直播海绵宝宝吃瓜', 1.5929437203748576e-42),\n",
       " ('艾莉亚一脸无辜地直播海绵宝宝说瞎话', 1.721474144419663e-49),\n",
       " ('海绵宝宝一脸无辜地直播杨超越尬舞', 2.01048369082134e-62),\n",
       " ('特朗普和特朗普满脸痴汉笑地想着艾莉亚吃瓜', 1.8094353217392057e-62),\n",
       " ('艾莉亚大张旗鼓地想着特朗普和奥特曼做蟹黄堡', 2.0104841253622022e-63),\n",
       " ('艾莉亚若无其事地看着杨超越和艾莉亚做蟹黄堡', 8.690817251752993e-70)]"
      ]
     },
     "execution_count": 228,
     "metadata": {},
     "output_type": "execute_result"
    }
   ],
   "source": [
    "sorted(probs,key = lambda x:x[1],reverse =True)"
   ]
  },
  {
   "cell_type": "code",
   "execution_count": 243,
   "metadata": {},
   "outputs": [],
   "source": [
    "def generate_best(gram,target,n):\n",
    "    sentence = generate_n(gram,target,n)\n",
    "    probs = []\n",
    "    for s in sentence:\n",
    "        prob = get_probablity(s)\n",
    "        probs.append((s,prob))\n",
    "    result = sorted(probs,key = lambda x:x[1],reverse =True)\n",
    "    best = result[0]\n",
    "    print('The best sentense is:'+best[0])\n",
    "    for item in result: print(item)"
   ]
  },
  {
   "cell_type": "code",
   "execution_count": 264,
   "metadata": {},
   "outputs": [
    {
     "name": "stdout",
     "output_type": "stream",
     "text": [
      "The best sentense is:奥特曼悄悄地看着艾莉亚尬舞\n",
      "('奥特曼悄悄地看着艾莉亚尬舞', 1.3639557724172307e-28)\n",
      "('特朗普悄悄地看着艾莉亚加班', 1.3639557724172307e-28)\n",
      "('奥特曼若无其事地看着特朗普上天', 5.896037779167338e-35)\n",
      "('奥特曼若无其事地看着奥特曼上天', 5.896037779167338e-35)\n",
      "('奥特曼在月球想着奥特曼舞剑', 1.4740097633805096e-35)\n",
      "('艾莉亚静静地听着小恶魔说瞎话', 4.078442140132315e-37)\n",
      "('奥特曼大言不惭地说着艾莉亚上天', 4.8935209936448205e-39)\n",
      "('奥特曼若无其事地说着奥特曼加班', 4.8935209936448205e-39)\n",
      "('奥特曼惊恐地等着艾莉亚尬舞', 3.902710427874287e-39)\n",
      "('奥特曼若无其事地听着特朗普加班', 2.0230380876217314e-40)\n",
      "('海绵宝宝静静地直播小恶魔舞剑', 7.646126552570031e-41)\n",
      "('艾莉亚在海底直播小恶魔舞剑', 7.646126552570031e-41)\n",
      "('杨超越静静地看着特朗普尬舞', 6.371772127141693e-41)\n",
      "('奥特曼在月球想着小恶魔加班', 1.9115320512961242e-41)\n",
      "('特朗普静静地瞪着杨超越上天', 1.911532051296124e-41)\n",
      "('艾莉亚大言不惭地瞪着海绵宝宝尬舞', 1.5929433760801033e-41)\n",
      "('杨超越大言不惭地直播艾莉亚尬舞', 1.5929437203748576e-42)\n",
      "('奥特曼在海底想着杨超越加班', 1.5929437203748576e-42)\n",
      "('奥特曼惊恐地想着海绵宝宝加班', 1.5929437203748576e-42)\n",
      "('杨超越大言不惭地想着艾莉亚加班', 1.5929437203748576e-42)\n",
      "('特朗普在山上直播海绵宝宝说瞎话', 1.5929437203748576e-42)\n",
      "('杨超越若无其事地说着特朗普上天', 5.288366285628717e-46)\n",
      "('海绵宝宝悄悄地说着奥特曼尬舞', 1.1017429761726492e-46)\n",
      "('海绵宝宝在海底听着艾莉亚加班', 6.558813655027803e-47)\n",
      "('杨超越静静地计划着小恶魔吃瓜', 5.784150624906409e-47)\n",
      "('海绵宝宝悄悄地等着杨超越吃瓜', 3.0125791016031787e-47)\n",
      "('特朗普在山上听着艾莉亚慢慢膨胀', 2.1862716908777358e-47)\n",
      "('杨超越在海底听着奥特曼加班', 2.1862716908777355e-47)\n",
      "('海绵宝宝若无其事地听着艾莉亚尬舞', 2.1862716908777355e-47)\n",
      "('杨超越在山上听着艾莉亚尬舞', 2.1862716908777355e-47)\n",
      "('海绵宝宝悄悄地说着奥特曼慢慢膨胀', 1.1017432143005909e-47)\n",
      "('小恶魔悄悄地计划着艾莉亚慢慢膨胀', 2.0657685268136086e-48)\n",
      "('艾莉亚在山上瞪着海绵宝宝舞剑', 2.0657685268136086e-48)\n",
      "('奥特曼惊恐地瞪着奥特曼撕下人皮面具', 1.7214734002697647e-48)\n",
      "('艾莉亚大言不惭地看着奥特曼做蟹黄堡', 6.885895089378694e-49)\n",
      "('艾莉亚一脸无辜地看着海绵宝宝上天', 6.885895089378693e-49)\n",
      "('艾莉亚一脸无辜地计划着艾莉亚上天', 3.4429475446893464e-49)\n",
      "('奥特曼满脸痴汉笑地直播艾莉亚慢慢膨胀', 1.721474144419663e-49)\n",
      "('奥特曼若无其事地直播艾莉亚做蟹黄堡', 1.721474144419663e-49)\n",
      "('奥特曼在海底计划着杨超越舞剑', 1.721474144419663e-49)\n",
      "('艾莉亚大言不惭地听着小恶魔尬舞', 7.938586826416828e-51)\n",
      "('奥特曼悄悄地说着奥特曼和小恶魔加班', 2.386041460615643e-51)\n",
      "('特朗普大言不惭地说着艾莉亚和艾莉亚尬舞', 5.715070601984701e-53)\n",
      "('杨超越若无其事地说着海绵宝宝说瞎话', 5.7150706019847e-53)\n",
      "('杨超越惊恐地等着海绵宝宝加班', 4.557917635046393e-53)\n",
      "('奥特曼惊恐地想着艾莉亚和小恶魔舞剑', 3.728190588013457e-53)\n",
      "('小恶魔在月球瞪着特朗普尬舞', 2.6789387656612763e-53)\n",
      "('杨超越在月球听着特朗普尬舞', 2.3626756720444563e-53)\n",
      "('杨超越大言不惭地计划着小恶魔上天', 1.250171423975262e-53)\n",
      "('艾莉亚在月球瞪着杨超越尬舞', 2.232449453900274e-54)\n",
      "('杨超越和杨超越悄悄地看着特朗普上天', 1.134828717678263e-54)\n",
      "('艾莉亚大言不惭地看着杨超越做蟹黄堡', 7.441499788054184e-56)\n",
      "('艾莉亚惊恐地计划着奥特曼和特朗普吃瓜', 3.720749894027092e-56)\n",
      "('杨超越满脸痴汉笑地计划着特朗普吃瓜', 3.720749894027092e-56)\n",
      "('奥特曼满脸痴汉笑地计划着奥特曼慢慢膨胀', 3.720749894027091e-56)\n",
      "('特朗普和艾莉亚在月球直播杨超越说瞎话', 1.8603753491102842e-56)\n",
      "('奥特曼和艾莉亚大言不惭地说着小恶魔上天', 2.0752038362080363e-57)\n",
      "('小恶魔静静地听着特朗普撕下人皮面具', 1.8383846975112327e-58)\n",
      "('特朗普在山上等着小恶魔做蟹黄堡', 1.1821638991830591e-58)\n",
      "('杨超越静静地说着小恶魔和奥特曼上天', 4.323342259869473e-59)\n",
      "('奥特曼和杨超越若无其事地听着奥特曼上天', 1.5575213786405584e-59)\n",
      "('海绵宝宝悄悄地瞪着小恶魔做蟹黄堡', 8.106266737255263e-60)\n",
      "('海绵宝宝悄悄地计划着小恶魔做蟹黄堡', 6.755223741102718e-61)\n",
      "('艾莉亚大言不惭地听着杨超越做蟹黄堡', 2.5533142873431017e-61)\n",
      "('奥特曼若无其事地听着特朗普和海绵宝宝说瞎话', 2.5533142873431017e-61)\n",
      "('杨超越在海底瞪着杨超越尬舞', 2.4125799075366856e-61)\n",
      "('海绵宝宝悄悄地说着杨超越做蟹黄堡', 1.2867095621256572e-61)\n",
      "('海绵宝宝和艾莉亚在月球说着奥特曼说瞎话', 1.2867095621256572e-61)\n",
      "('奥特曼若无其事地计划着奥特曼撕下人皮面具', 4.020965643479793e-62)\n",
      "('杨超越在山上看着奥特曼撕下人皮面具', 2.010483256280571e-62)\n",
      "('海绵宝宝和艾莉亚惊恐地直播艾莉亚吃瓜', 1.8094353217392057e-62)\n",
      "('海绵宝宝大言不惭地看着海绵宝宝做蟹黄堡', 1.6083866050244562e-62)\n",
      "('奥特曼大言不惭地计划着杨超越做蟹黄堡', 4.0209673816426797e-63)\n",
      "('奥特曼在月球等着艾莉亚和小恶魔慢慢膨胀', 7.61967073168134e-65)\n",
      "('海绵宝宝在海底等着小恶魔做蟹黄堡', 3.832647922886033e-65)\n",
      "('海绵宝宝一脸无辜地等着海绵宝宝尬舞', 5.323123265645648e-66)\n",
      "('艾莉亚满脸痴汉笑地等着杨超越和奥特曼上天', 5.323124416172054e-67)\n",
      "('杨超越满脸痴汉笑地听着海绵宝宝慢慢膨胀', 2.759334477431575e-68)\n",
      "('奥特曼在山上瞪着特朗普和奥特曼和艾莉亚尬舞', 2.607245175525898e-69)\n",
      "('奥特曼在海底听着小恶魔和小恶魔慢慢膨胀', 2.007895186353747e-69)\n",
      "('特朗普在月球计划着海绵宝宝和特朗普慢慢膨胀', 2.172704782541066e-70)\n",
      "('特朗普和特朗普和艾莉亚在月球想着杨超越上天', 2.172704782541066e-70)\n",
      "('杨超越若无其事地计划着小恶魔撕下人皮面具', 1.5778641035674684e-73)\n",
      "('海绵宝宝在海底说着海绵宝宝撕下人皮面具', 4.50818412743722e-74)\n",
      "('杨超越静静地说着杨超越和艾莉亚做蟹黄堡', 1.5027290168668047e-75)\n",
      "('特朗普和海绵宝宝和奥特曼大言不惭地计划着艾莉亚舞剑', 4.6960281777087656e-77)\n",
      "('杨超越和小恶魔在月球说着杨超越慢慢膨胀', 3.2544550234335465e-79)\n",
      "('特朗普惊恐地听着艾莉亚和海绵宝宝和杨超越吃瓜', 1.965776923953226e-80)\n",
      "('艾莉亚在海底说着特朗普和海绵宝宝和杨超越舞剑', 9.90627741204775e-81)\n",
      "('海绵宝宝和特朗普惊恐地听着特朗普撕下人皮面具', 3.222584424713544e-81)\n",
      "('特朗普和奥特曼和小恶魔和杨超越悄悄地等着奥特曼上天', 5.8663255701463995e-84)\n",
      "('海绵宝宝在山上说着特朗普和杨超越和特朗普尬舞', 3.2116752479843424e-86)\n",
      "('奥特曼和杨超越和杨超越和特朗普若无其事地瞪着小恶魔上天', 1.2244514529438152e-86)\n",
      "('特朗普悄悄地说着艾莉亚和杨超越和特朗普撕下人皮面具', 1.0705584159947804e-86)\n",
      "('艾莉亚悄悄地计划着海绵宝宝和艾莉亚和艾莉亚和小恶魔吃瓜', 5.495389326475159e-88)\n",
      "('特朗普和杨超越和杨超越静静地听着小恶魔做蟹黄堡', 2.8232826808297406e-89)\n",
      "('特朗普和艾莉亚和杨超越在山上计划着海绵宝宝和杨超越舞剑', 1.1916825028878672e-101)\n",
      "('杨超越和小恶魔和奥特曼在月球说着奥特曼和艾莉亚和小恶魔说瞎话', 9.613381196339412e-111)\n",
      "('艾莉亚和奥特曼一脸无辜地直播杨超越和艾莉亚和杨超越撕下人皮面具', 2.2815541356384988e-116)\n",
      "('小恶魔在山上听着奥特曼和奥特曼和奥特曼和小恶魔和杨超越慢慢膨胀', 7.530318518884757e-118)\n"
     ]
    }
   ],
   "source": [
    "generate_best(gram = create_grammar(grammar_1),target = '句子',n= 100)"
   ]
  },
  {
   "cell_type": "code",
   "execution_count": 263,
   "metadata": {},
   "outputs": [
    {
     "name": "stdout",
     "output_type": "stream",
     "text": [
      "The best sentense is:夏天的巴塞罗那生机勃勃，马里奥在树下修水管\n",
      "('夏天的巴塞罗那生机勃勃，马里奥在树下修水管', 7.961513694871062e-61)\n",
      "('冬天的太湖鲜花盛开，渔夫田地里赏花', 3.2167732100489134e-62)\n",
      "('冬天的太湖秋高气爽，马里奥在草地上赏花', 3.216772514783833e-62)\n",
      "('夏天的太湖万里无云，年轻的外星人田地里野餐', 2.254223204315376e-65)\n",
      "('夏天的乌鲁木齐生机勃勃，开心的外星人田地里野餐', 1.6261381130366645e-65)\n",
      "('春天的新德里人头攒动，年轻的游人在树下野餐', 3.75703867385896e-66)\n",
      "('夏天的新德里秋高气爽，幸福的马里奥在山上赏花', 2.9396683000329744e-66)\n",
      "('冬天的太湖人头攒动，幸福的游人田地里野餐', 1.781617151535136e-67)\n",
      "('2月份的奈良秋高气爽，当地居民在树下赏花', 5.214489224005275e-69)\n",
      "('秋天的巴塞罗那瓜果成熟，游人在塔上赏花', 5.214488096959001e-69)\n",
      "('冬天的乌鲁木齐万里无云，沙雕网友在塔上野餐', 3.4763253979726666e-69)\n",
      "('冬天的乌鲁木齐瓜果成熟，渔夫在草地上赏花', 3.4763253979726666e-69)\n",
      "('春天的新德里生机勃勃，沙雕网友田地里修水管', 2.3899747442320733e-69)\n",
      "('3月份的太湖秋高气爽，沙雕网友田地里赏花', 1.303622587762949e-69)\n",
      "('夏天的乌鲁木齐生机勃勃，年轻的外星人在屋顶上赏花', 6.431327614258578e-70)\n",
      "('8月份的太湖秋高气爽，外星人田地里修水管', 2.172704782541066e-70)\n",
      "('5月份的太湖瓜果成熟，游人在山上赏花', 2.172704782541066e-70)\n",
      "('春天的新德里万里无云，开心的一家人在草地上野餐', 4.842463887210657e-71)\n",
      "('夏天的太湖鲜花盛开，开心的游人在树下野餐', 7.029386100706487e-72)\n",
      "('春天的乌鲁木齐生机勃勃，幸福的外星人在草地上赏花', 5.082975406442317e-72)\n",
      "('9月份的奈良人头攒动，开心的外星人在树下野餐', 3.8342097716689494e-72)\n",
      "('春天的奈良万里无云，开心的当地居民在树下赏花', 3.514692290696536e-72)\n",
      "('秋天的新德里鲜花盛开，幸福的外星人在山上野餐', 2.772532639125694e-72)\n",
      "('夏天的太湖万里无云，年轻的渔夫在树下喂小鹿', 2.4361105243985447e-72)\n",
      "('冬天的巴塞罗那人头攒动，年轻的外星人在草地上野餐', 2.3622874616193117e-72)\n",
      "('春天的奈良秋高气爽，年轻的渔夫在下水道里赏花', 8.120368414661816e-73)\n",
      "('春天的巴塞罗那秋高气爽，年轻的游人在树下看日落', 4.060184207330907e-73)\n",
      "('春天的新德里万里无云，幸福的渔夫在草地上野餐', 2.117907334868944e-73)\n",
      "('秋天的太湖生机勃勃，开心的游人在树下看日落', 1.597588095459143e-73)\n",
      "('秋天的奈良鲜花盛开，年轻的渔夫在山上赏花', 1.4764306208476026e-73)\n",
      "('冬天的奈良人头攒动，年轻的马里奥在塔上赏花', 9.842868678237928e-74)\n",
      "('冬天的乌鲁木齐万里无云，三五成群的一家人在塔上赏花', 9.316911849636478e-74)\n",
      "('秋天的新德里生机勃勃，幸福的沙雕网友田地里赏花', 2.888056705073616e-74)\n",
      "('秋天的新德里万里无云，开心的渔夫在山上喂小鹿', 2.6626474012629915e-74)\n",
      "('秋天的乌鲁木齐生机勃勃，开心的渔夫在山上修水管', 2.6626474012629915e-74)\n",
      "('秋天的乌鲁木齐秋高气爽，开心的沙雕网友在山上野餐', 2.6626474012629915e-74)\n",
      "('冬天的巴塞罗那生机勃勃，三五成群的一家人在山上看日落', 2.329228969276116e-74)\n",
      "('冬天的乌鲁木齐人头攒动，开心的沙雕网友田地里野餐', 1.775098267508661e-74)\n",
      "('秋天的新德里万里无云，年轻的一家人在草地上看日出', 8.428376562468776e-75)\n",
      "('春天的奈良万里无云，当地居民在草地上喂小鹿', 4.1325021168174506e-75)\n",
      "('秋天的太湖鲜花盛开，当地居民在山上修水管', 2.25409255091237e-75)\n",
      "('秋天的巴塞罗那生机勃勃，三五成群的当地居民在山上赏花', 1.690569413184278e-75)\n",
      "('夏天的奈良秋高气爽，年轻的渔夫在屋顶上看日落', 1.0280586948907361e-75)\n",
      "('冬天的奈良秋高气爽，开心的一家人在塔上看日落', 6.755570460583676e-76)\n",
      "('夏天的乌鲁木齐万里无云，三五成群的外星人在屋顶上看日出', 5.650396491225522e-76)\n",
      "('冬天的奈良人头攒动，三五成群的马里奥在草地上赏花', 3.756820918187283e-76)\n",
      "('2月份的巴塞罗那秋高气爽，三五成群的马里奥在树下赏花', 1.4088084533126297e-76)\n",
      "('秋天的太湖瓜果成熟，年轻的一家人在屋顶上赏花', 6.529026920020915e-77)\n",
      "('夏天的蟹堡王人头攒动，马里奥在屋顶上看日出', 2.354332889062755e-77)\n",
      "('冬天的蟹堡王生机勃勃，幸福的一家人在山上赏花', 5.16019391311193e-79)\n",
      "('春天的乌鲁木齐万里无云，开心的外星人在塔上修水管', 5.0643769510135124e-79)\n",
      "('夏天的巴塞罗那人头攒动，开心的马里奥在下水道里喂小鹿', 3.798285176114339e-79)\n",
      "('秋天的太湖人头攒动，年轻的当地居民在树下看日落', 2.8720065972969005e-79)\n",
      "('冬天的巴塞罗那秋高气爽，开心的当地居民在下水道里赏花', 2.7623880248809886e-79)\n",
      "('夏天的巴塞罗那鲜花盛开，年轻的沙雕网友在山上赏花', 1.7551159014849328e-79)\n",
      "('夏天的巴塞罗那瓜果成熟，三五成群的一家人在草地上赏花', 1.6613303641700474e-79)\n",
      "('冬天的太湖人头攒动，三五成群的渔夫在下水道里看日出', 1.5346603455203072e-79)\n",
      "('夏天的乌鲁木齐秋高气爽，幸福的沙雕网友在塔上赏花', 1.3732774123604336e-79)\n",
      "('冬天的太湖人头攒动，三五成群的游人在塔上看日出', 8.647687379477517e-80)\n",
      "('春天的巴塞罗那鲜花盛开，开心的渔夫在草地上野餐', 8.440630076025239e-80)\n",
      "('冬天的蟹堡王人头攒动，年轻的外星人在山上赏花', 6.382238262322545e-80)\n",
      "('9月份的太湖生机勃勃，三五成群的一家人在下水道里赏花', 4.530901972488527e-80)\n",
      "('冬天的太湖鲜花盛开，年轻的马里奥在草地上赏花', 4.254824588587999e-80)\n",
      "('春天的巴塞罗那人头攒动，开心的沙雕网友在树下看日落', 3.165237646761949e-80)\n",
      "('春天的乌鲁木齐秋高气爽，开心的马里奥在塔上喂小鹿', 2.110157975090422e-80)\n",
      "('秋天的太湖人头攒动，年轻的沙雕网友在草地上野餐', 1.5955595655806365e-80)\n",
      "('冬天的巴塞罗那瓜果成熟，幸福的游人在草地上赏花', 8.322893408245048e-81)\n",
      "('秋天的新德里万里无云，幸福的沙雕网友田地里喂小鹿', 3.121086377258897e-81)\n",
      "('夏天的巴塞罗那秋高气爽，三五成群的渔夫在下水道里喂小鹿', 2.0096751307228016e-81)\n",
      "('冬天的奈良瓜果成熟，年轻的一家人在屋顶上看日落', 1.669881031194123e-81)\n",
      "('冬天的巴塞罗那鲜花盛开，三五成群的渔夫在塔上赏花', 1.6239792016087904e-82)\n",
      "('3月份的奈良万里无云，幸福的马里奥在屋顶上看日出', 4.741644866500998e-83)\n",
      "('夏天的巴塞罗那瓜果成熟，年轻的马里奥在塔上看日出', 4.0400356260919066e-83)\n",
      "('8月份的奈良人头攒动，沙雕网友在草地上修水管', 1.0149874397589907e-83)\n",
      "('秋天的新德里鲜花盛开，开心的马里奥在塔上看日落', 1.7662889968340743e-84)\n",
      "('春天的乌鲁木齐瓜果成熟，开心的当地居民在屋顶上野餐', 4.515231731343444e-85)\n",
      "('5月份的新德里鲜花盛开，年轻的外星人田地里看日落', 3.6210322160675925e-85)\n",
      "('冬天的乌鲁木齐瓜果成熟，开心的一家人在草地上喂小鹿', 2.056524278003992e-85)\n",
      "('3月份的太湖鲜花盛开，开心的当地居民在树下赏花', 8.955831533243196e-86)\n",
      "('12月份的奈良鲜花盛开，年轻的渔夫田地里看日落', 6.035054997847236e-86)\n",
      "('春天的蟹堡王万里无云，幸福的游人在下水道里赏花', 7.420419313056443e-87)\n",
      "('冬天的奈良鲜花盛开，年轻的沙雕网友在树下修水管', 6.897204221081126e-87)\n",
      "('春天的蟹堡王生机勃勃，幸福的马里奥在树下喂小鹿', 3.7102096565282215e-87)\n",
      "('春天的蟹堡王秋高气爽，开心的渔夫在塔上赏花', 2.280421052103636e-87)\n",
      "('4月份的巴塞罗那人头攒动，年轻的游人在塔上修水管', 5.74767018423427e-88)\n",
      "('春天的太湖人头攒动，三五成群的当地居民在塔上喂小鹿', 1.447886069345588e-88)\n",
      "('春天的巴塞罗那万里无云，三五成群的当地居民在草地上喂小鹿', 1.447886069345588e-88)\n",
      "('夏天的蟹堡王秋高气爽，三五成群的游人在山上修水管', 1.8098591513946664e-89)\n",
      "('4月份的太湖人头攒动，幸福的当地居民在屋顶上看日落', 3.416156378093663e-90)\n",
      "('12月份的乌鲁木齐鲜花盛开，年轻的一家人在塔上喂小鹿', 3.080870190030216e-92)\n",
      "('夏天的蟹堡王瓜果成熟，开心的当地居民在树下赏花', 2.66157540869634e-92)\n",
      "('秋天的蟹堡王瓜果成熟，开心的外星人在塔上赏花', 3.2261513132488287e-93)\n",
      "('9月份的奈良人头攒动，三五成群的当地居民在塔上看日落', 3.0298511010670223e-93)\n",
      "('秋天的蟹堡王万里无云，开心的当地居民在塔上野餐', 1.6130756566244143e-93)\n",
      "('秋天的蟹堡王秋高气爽，开心的沙雕网友在塔上赏花', 1.344230294930566e-94)\n",
      "('10月份的蟹堡王秋高气爽，幸福的渔夫在屋顶上看日出', 9.229496536971479e-98)\n",
      "('夏天的蟹堡王鲜花盛开，开心的当地居民在塔上野餐', 7.670212425424401e-99)\n",
      "('冬天的蟹堡王瓜果成熟，三五成群的游人在屋顶上修水管', 8.454827002543921e-103)\n",
      "('秋天的蟹堡王人头攒动，三五成群的沙雕网友在塔上修水管', 7.68620636594902e-104)\n",
      "('10月份的蟹堡王万里无云，幸福的沙雕网友在屋顶上看日落', 1.6623670676757997e-105)\n"
     ]
    }
   ],
   "source": [
    "generate_best(gram = create_grammar(grammar_2),target = '句子',n=100)"
   ]
  },
  {
   "cell_type": "code",
   "execution_count": null,
   "metadata": {},
   "outputs": [],
   "source": []
  }
 ],
 "metadata": {
  "kernelspec": {
   "display_name": "Python 3",
   "language": "python",
   "name": "python3"
  },
  "language_info": {
   "codemirror_mode": {
    "name": "ipython",
    "version": 3
   },
   "file_extension": ".py",
   "mimetype": "text/x-python",
   "name": "python",
   "nbconvert_exporter": "python",
   "pygments_lexer": "ipython3",
   "version": "3.7.1"
  }
 },
 "nbformat": 4,
 "nbformat_minor": 2
}
