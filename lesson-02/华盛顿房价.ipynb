{
 "cells": [
  {
   "cell_type": "markdown",
   "metadata": {},
   "source": [
    "### 考虑如何生成函数，机器生成具体的函数"
   ]
  },
  {
   "cell_type": "code",
   "execution_count": 1,
   "metadata": {},
   "outputs": [],
   "source": [
    "from sklearn.datasets import load_boston"
   ]
  },
  {
   "cell_type": "code",
   "execution_count": 2,
   "metadata": {},
   "outputs": [],
   "source": [
    "data = load_boston()"
   ]
  },
  {
   "cell_type": "markdown",
   "metadata": {},
   "source": [
    "    Samples total                 506\n",
    "    Dimensionality                 13\n",
    "    Features           real, positive\n",
    "    Targets             real 5. - 50."
   ]
  },
  {
   "cell_type": "code",
   "execution_count": 3,
   "metadata": {},
   "outputs": [],
   "source": [
    "X, y = data['data'],data['target']"
   ]
  },
  {
   "cell_type": "code",
   "execution_count": 4,
   "metadata": {},
   "outputs": [
    {
     "data": {
      "text/plain": [
       "(array([6.320e-03, 1.800e+01, 2.310e+00, 0.000e+00, 5.380e-01, 6.575e+00,\n",
       "        6.520e+01, 4.090e+00, 1.000e+00, 2.960e+02, 1.530e+01, 3.969e+02,\n",
       "        4.980e+00]), 24.0)"
      ]
     },
     "execution_count": 4,
     "metadata": {},
     "output_type": "execute_result"
    }
   ],
   "source": [
    "X[0],y[0]"
   ]
  },
  {
   "cell_type": "code",
   "execution_count": 5,
   "metadata": {},
   "outputs": [
    {
     "data": {
      "text/plain": [
       "\".. _boston_dataset:\\n\\nBoston house prices dataset\\n---------------------------\\n\\n**Data Set Characteristics:**  \\n\\n    :Number of Instances: 506 \\n\\n    :Number of Attributes: 13 numeric/categorical predictive. Median Value (attribute 14) is usually the target.\\n\\n    :Attribute Information (in order):\\n        - CRIM     per capita crime rate by town\\n        - ZN       proportion of residential land zoned for lots over 25,000 sq.ft.\\n        - INDUS    proportion of non-retail business acres per town\\n        - CHAS     Charles River dummy variable (= 1 if tract bounds river; 0 otherwise)\\n        - NOX      nitric oxides concentration (parts per 10 million)\\n        - RM       average number of rooms per dwelling\\n        - AGE      proportion of owner-occupied units built prior to 1940\\n        - DIS      weighted distances to five Boston employment centres\\n        - RAD      index of accessibility to radial highways\\n        - TAX      full-value property-tax rate per $10,000\\n        - PTRATIO  pupil-teacher ratio by town\\n        - B        1000(Bk - 0.63)^2 where Bk is the proportion of blacks by town\\n        - LSTAT    % lower status of the population\\n        - MEDV     Median value of owner-occupied homes in $1000's\\n\\n    :Missing Attribute Values: None\\n\\n    :Creator: Harrison, D. and Rubinfeld, D.L.\\n\\nThis is a copy of UCI ML housing dataset.\\nhttps://archive.ics.uci.edu/ml/machine-learning-databases/housing/\\n\\n\\nThis dataset was taken from the StatLib library which is maintained at Carnegie Mellon University.\\n\\nThe Boston house-price data of Harrison, D. and Rubinfeld, D.L. 'Hedonic\\nprices and the demand for clean air', J. Environ. Economics & Management,\\nvol.5, 81-102, 1978.   Used in Belsley, Kuh & Welsch, 'Regression diagnostics\\n...', Wiley, 1980.   N.B. Various transformations are used in the table on\\npages 244-261 of the latter.\\n\\nThe Boston house-price data has been used in many machine learning papers that address regression\\nproblems.   \\n     \\n.. topic:: References\\n\\n   - Belsley, Kuh & Welsch, 'Regression diagnostics: Identifying Influential Data and Sources of Collinearity', Wiley, 1980. 244-261.\\n   - Quinlan,R. (1993). Combining Instance-Based and Model-Based Learning. In Proceedings on the Tenth International Conference of Machine Learning, 236-243, University of Massachusetts, Amherst. Morgan Kaufmann.\\n\""
      ]
     },
     "execution_count": 5,
     "metadata": {},
     "output_type": "execute_result"
    }
   ],
   "source": [
    "data['DESCR']"
   ]
  },
  {
   "cell_type": "code",
   "execution_count": 6,
   "metadata": {},
   "outputs": [],
   "source": [
    "%matplotlib inline"
   ]
  },
  {
   "cell_type": "code",
   "execution_count": 7,
   "metadata": {},
   "outputs": [],
   "source": [
    "import matplotlib.pyplot as plt"
   ]
  },
  {
   "cell_type": "code",
   "execution_count": 8,
   "metadata": {},
   "outputs": [],
   "source": [
    "def draw_rm_and_price():\n",
    "    plt.scatter(X[:,5],y)"
   ]
  },
  {
   "cell_type": "code",
   "execution_count": 9,
   "metadata": {},
   "outputs": [
    {
     "data": {
      "image/png": "[encoded data removed]",
      "text/plain": [
       "<Figure size 432x288 with 1 Axes>"
      ]
     },
     "metadata": {
      "needs_background": "light"
     },
     "output_type": "display_data"
    }
   ],
   "source": [
    "draw_rm_and_price()"
   ]
  },
  {
   "cell_type": "code",
   "execution_count": 10,
   "metadata": {},
   "outputs": [],
   "source": [
    "import random"
   ]
  },
  {
   "cell_type": "code",
   "execution_count": 11,
   "metadata": {},
   "outputs": [],
   "source": [
    "def price(rm,k,b):\n",
    "    \"\"\"f(x) = kx+b\"\"\"\n",
    "    return k * rm + b"
   ]
  },
  {
   "cell_type": "code",
   "execution_count": 12,
   "metadata": {},
   "outputs": [],
   "source": [
    "k = random.randint(-100,100)\n",
    "b = random.randint(-100,100)"
   ]
  },
  {
   "cell_type": "code",
   "execution_count": 13,
   "metadata": {},
   "outputs": [],
   "source": [
    "X_rm = X[:,5]"
   ]
  },
  {
   "cell_type": "code",
   "execution_count": 14,
   "metadata": {},
   "outputs": [],
   "source": [
    "price_predict = [price(r,k,b) for r in X_rm]"
   ]
  },
  {
   "cell_type": "code",
   "execution_count": 15,
   "metadata": {},
   "outputs": [
    {
     "data": {
      "text/plain": [
       "<matplotlib.collections.PathCollection at 0xaf261526d8>"
      ]
     },
     "execution_count": 15,
     "metadata": {},
     "output_type": "execute_result"
    },
    {
     "data": {
      "image/png": "[encoded data removed]",
      "text/plain": [
       "<Figure size 432x288 with 1 Axes>"
      ]
     },
     "metadata": {
      "needs_background": "light"
     },
     "output_type": "display_data"
    }
   ],
   "source": [
    "draw_rm_and_price()\n",
    "plt.scatter(X_rm,price_predict)\n",
    "# 散点图 plt.scatter(x,y)\n",
    "# 写在同一块，放在一个图"
   ]
  },
  {
   "cell_type": "code",
   "execution_count": 16,
   "metadata": {},
   "outputs": [],
   "source": [
    "def loss(y,y_hat):\n",
    "    return sum((y_i - y_hat_i)**2 for y_i,y_hat_i in zip(list(y),list(y_hat)))/len(list(y))\n",
    "    "
   ]
  },
  {
   "cell_type": "code",
   "execution_count": 17,
   "metadata": {},
   "outputs": [
    {
     "data": {
      "text/plain": [
       "305896.9532003458"
      ]
     },
     "execution_count": 17,
     "metadata": {},
     "output_type": "execute_result"
    }
   ],
   "source": [
    "loss(price_predict,y)"
   ]
  },
  {
   "cell_type": "markdown",
   "metadata": {},
   "source": [
    "## 1st random ajust"
   ]
  },
  {
   "cell_type": "code",
   "execution_count": 18,
   "metadata": {
    "scrolled": true
   },
   "outputs": [
    {
     "name": "stdout",
     "output_type": "stream",
     "text": [
      "current_loss:130043.87115067826,y = -56.11294040771835 * x + 17.544264505703538\n",
      "current_loss:11999.893881869311,y = -25.138023202905586 * x + 73.84527045764716\n",
      "current_loss:4872.00605590791,y = 26.798668853612753 * x + -77.51957367277988\n",
      "current_loss:19437.99014889234,y = 13.21277742967115 * x + 78.72917823320512\n",
      "current_loss:351550.3778174354,y = -98.01374563930865 * x + 50.4200980721929\n",
      "current_loss:354724.6116605817,y = -97.17576379893778 * x + 42.38654199894242\n",
      "current_loss:415928.91686570994,y = -95.56204769049505 * x + -17.5880716444955\n",
      "current_loss:2530.3480649861904,y = -5.16189570122134 * x + 6.121587700251169\n",
      "current_loss:180597.89141845857,y = 62.360935388182895 * x + 53.886261135003025\n",
      "current_loss:84794.47959134445,y = -45.59476726623859 * x + 20.501947003920606\n",
      "current_loss:266889.65278203896,y = -65.91098037750736 * x + -77.12177214096671\n",
      "current_loss:227721.6743323909,y = -81.13935950790119 * x + 59.53082849843267\n",
      "current_loss:171938.96417028364,y = 57.009493781871555 * x + 77.48568126053937\n",
      "current_loss:285780.8939958078,y = -80.03190961927153 * x + -5.36584163864562\n",
      "current_loss:319168.08107982395,y = -86.18030918899176 * x + 3.2065504984291664\n",
      "current_loss:282674.44857951556,y = 72.25055395766694 * x + 98.24379772627992\n",
      "current_loss:375.9365683340513,y = -9.476921213102884 * x + 94.83020965430953\n",
      "current_loss:177217.6426467553,y = -66.6320779762242 * x + 23.74093049837454\n",
      "current_loss:308900.24973076495,y = 94.61571772918154 * x + -19.594624611074636\n",
      "current_loss:210679.18133837066,y = -68.29699738776952 * x + -3.9691688610409273\n",
      "current_loss:39951.15460500556,y = -26.282835715790483 * x + -10.507880908273833\n",
      "current_loss:44219.152401780586,y = 44.89714549178214 * x + -50.95670207288205\n",
      "current_loss:214730.8720299204,y = -57.44547342242261 * x + -77.42640105370066\n",
      "current_loss:71219.36488800526,y = -39.89278292093539 * x + 8.682365634574296\n",
      "current_loss:101199.86787471182,y = 63.091209239256074 * x + -58.18740565520868\n",
      "current_loss:196.8577147030381,y = 16.337285916455087 * x + -91.43113160985996\n",
      "current_loss:305.0381420086587,y = -1.7701026795549808 * x + 47.91202769087542\n",
      "current_loss:233096.34983213124,y = 94.64102834772152 * x + -93.24441491580077\n",
      "current_loss:214040.33352851708,y = 86.24755918253763 * x + -60.08400761343431\n",
      "current_loss:8543.646697716726,y = -20.5006952218298 * x + 61.54855046102861\n",
      "current_loss:73720.9766182803,y = 49.47707185433089 * x + -18.460254956363855\n",
      "current_loss:148308.25848957326,y = -63.2842594880507 * x + 38.56676229868785\n",
      "current_loss:199795.31197510118,y = 71.93421873764512 * x + 15.207095031160605\n",
      "current_loss:125620.68441570245,y = 72.12586502976029 * x + -79.15538142706338\n",
      "current_loss:78747.99627770922,y = -44.15545612103007 * x + 21.992465111363614\n",
      "current_loss:28353.726237855,y = 34.93620307046672 * x + -29.752335747324082\n",
      "current_loss:81914.18614912531,y = -27.023967641281786 * x + -92.63595015520964\n",
      "current_loss:342199.31661831413,y = 89.11560937444094 * x + 44.71205258847411\n",
      "current_loss:32263.550400208154,y = -23.896988386183324 * x + -5.281769122427235\n",
      "current_loss:261918.90683856423,y = 70.33032532709888 * x + 90.46207134152101\n",
      "current_loss:310234.21089266654,y = -99.38952127158859 * x + 95.44285793822809\n",
      "current_loss:251840.9664934315,y = 97.96450355936668 * x + -95.23589570407364\n",
      "current_loss:456973.6500255188,y = -97.04817735934816 * x + -39.40190026772774\n",
      "current_loss:488020.134561013,y = -95.83708707784946 * x + -69.82494795049416\n",
      "current_loss:216402.1834141512,y = -55.92339892622118 * x + -88.90789114322028\n",
      "current_loss:216196.59433729015,y = -80.26228649951123 * x + 66.28032217008519\n",
      "current_loss:385004.759222703,y = -98.5174209188159 * x + 25.842126513746308\n",
      "current_loss:112330.65542381631,y = 65.18925211507073 * x + -54.38588999778828\n",
      "current_loss:40025.62942765825,y = -30.308706206364747 * x + 14.979702321986665\n",
      "current_loss:284109.7367437574,y = -90.2777703438058 * x + 61.50169844164307\n",
      "current_loss:352888.1659951029,y = -95.41989356171898 * x + 32.75292356774986\n",
      "current_loss:46935.64794766819,y = 51.745918789432835 * x + -88.20439818096786\n",
      "current_loss:10639.865063435082,y = -16.745800386734317 * x + 26.447400462315017\n",
      "current_loss:450.0799106558097,y = -13.6311494590025 * x + 95.87669311017561\n",
      "current_loss:91.4848621806979,y = 5.716243134755203 * x + -6.892768141820028\n",
      "current_loss:287210.472887679,y = -79.17846911699588 * x + -12.144229483748845\n",
      "current_loss:1991.1844191812518,y = 9.90657772603214 * x + -83.85423851423434\n",
      "current_loss:4134.125104124818,y = 8.03467881059467 * x + -91.9150323103531\n",
      "current_loss:416931.8258879065,y = 93.78587332525288 * x + 76.04973644398333\n",
      "current_loss:28597.427137266615,y = -33.14833750762453 * x + 64.50199560224075\n",
      "current_loss:304345.1620259921,y = -68.98405438881305 * x + -92.83325137043616\n",
      "current_loss:8108.010100094486,y = -2.6018061286565057 * x + -50.541289523575216\n",
      "current_loss:210634.98657444463,y = -82.7244111844388 * x + 88.07218042262164\n",
      "current_loss:45101.83658901213,y = 50.960820350294995 * x + -87.511345740827\n",
      "current_loss:350686.1724238692,y = -83.21663692890864 * x + -43.07552834018924\n",
      "current_loss:39244.72584873739,y = -20.955346651481904 * x + -42.63593648908503\n",
      "current_loss:464847.965419123,y = -95.85567348976095 * x + -52.82272118868087\n",
      "current_loss:188789.65364668687,y = -80.35886309505365 * x + 97.67182286736457\n",
      "current_loss:16498.310617584302,y = -11.290422412459876 * x + -33.985799067826775\n",
      "current_loss:76189.34582209292,y = 44.97112995170943 * x + 14.699892627675723\n",
      "current_loss:88205.62253473398,y = -33.121266249964876 * x + -64.75018969348203\n",
      "current_loss:273543.4007592075,y = 72.05993892184668 * x + 90.76406730973409\n",
      "current_loss:82130.4960587914,y = 34.19222743005497 * x + 93.61347939177733\n",
      "current_loss:946.7953450482468,y = 19.79456905736454 * x + -72.7678679434466\n",
      "current_loss:266528.4361482021,y = -91.39653216656838 * x + 85.54745479236848\n",
      "current_loss:145142.14236923403,y = -70.79778148408901 * x + 90.70423455930896\n",
      "current_loss:21482.27345047336,y = 41.93657268111372 * x + -96.42897021206277\n",
      "current_loss:28183.142347399,y = -9.75680838302327 * x + -83.37454849789141\n",
      "current_loss:137448.2209926358,y = 77.19481202583594 * x + -95.02139208705012\n",
      "current_loss:11441.143623929855,y = 2.032001763603404 * x + -96.88145181355623\n",
      "current_loss:165343.612340671,y = 55.017601646119516 * x + 82.05891325366005\n",
      "current_loss:134108.38675894702,y = -47.965327672423676 * x + -39.97350733550569\n",
      "current_loss:329045.7139287005,y = -98.31827457219131 * x + 71.8176528205926\n",
      "current_loss:17813.966114493363,y = 12.794298662532654 * x + 75.40565691484994\n",
      "current_loss:143119.94033324084,y = -53.661541940459045 * x + -15.904041884821368\n",
      "current_loss:109249.12076065369,y = 51.62193177977093 * x + 27.21991555696694\n",
      "current_loss:66600.19785974943,y = -35.9158708122082 * x + -7.792221848110998\n",
      "current_loss:7236.580803593298,y = -15.760643026605692 * x + 38.58619437166078\n",
      "current_loss:81476.57192400364,y = -38.06835992671138 * x + -21.658761527632777\n",
      "current_loss:71974.55776165961,y = -33.93901587608961 * x + -30.66532707368266\n",
      "current_loss:24929.010322585178,y = 28.839935011320023 * x + -1.5740974778808408\n",
      "current_loss:190854.98312210976,y = 75.43824269037648 * x + -17.238119460665715\n",
      "current_loss:38110.733227133656,y = -14.365976925304963 * x + -81.59364974445562\n",
      "current_loss:225379.39035292357,y = -59.39845504146963 * x + -76.42368630039853\n",
      "current_loss:234761.5574308799,y = -73.67813780493249 * x + 4.592997631617067\n",
      "current_loss:183943.3385466185,y = -68.47233730904883 * x + 27.492098309992087\n",
      "current_loss:292533.9298132173,y = -71.28783726331702 * x + -67.3211784883211\n",
      "current_loss:257302.80182700764,y = 93.00256164951236 * x + -58.17757554899401\n",
      "current_loss:1742.5526567439638,y = 20.802304759910967 * x + -67.81018323510959\n",
      "current_loss:95258.32846373632,y = 63.46593653079404 * x + -70.12713337458385\n",
      "min_loss:91.4848621806979,y = 5.716243134755203 * x + -6.892768141820028\n"
     ]
    }
   ],
   "source": [
    "X_rm = X[:,5]\n",
    "trying_times = 100\n",
    "\n",
    "min_loss = float(\"inf\")\n",
    "best_k,best_b = None,None\n",
    "for i in range(trying_times):\n",
    "    k = random.random() * 200 - 100\n",
    "    b = random.random() * 200 - 100\n",
    "    price_predict = [price(r,k,b) for r in X_rm]\n",
    "    \n",
    "    current_loss = loss(price_predict,y)\n",
    "    if current_loss<min_loss:\n",
    "        min_loss = current_loss\n",
    "        best_b,best_k = b,k\n",
    "    print('current_loss:{},y = {} * x + {}'.format(current_loss,k,b))\n",
    "print('min_loss:{},y = {} * x + {}'.format(min_loss,best_k,best_b))"
   ]
  },
  {
   "cell_type": "code",
   "execution_count": 19,
   "metadata": {},
   "outputs": [
    {
     "data": {
      "text/plain": [
       "<matplotlib.collections.PathCollection at 0xaf2719f550>"
      ]
     },
     "execution_count": 19,
     "metadata": {},
     "output_type": "execute_result"
    },
    {
     "data": {
      "image/png": "[encoded data removed]",
      "text/plain": [
       "<Figure size 432x288 with 1 Axes>"
      ]
     },
     "metadata": {
      "needs_background": "light"
     },
     "output_type": "display_data"
    }
   ],
   "source": [
    "price_predict = [price(r,best_k,best_b) for r in X_rm]\n",
    "draw_rm_and_price()\n",
    "plt.scatter(X_rm,price_predict)"
   ]
  },
  {
   "cell_type": "markdown",
   "metadata": {},
   "source": [
    "## 2nd direction ajusting 监督学习"
   ]
  },
  {
   "cell_type": "code",
   "execution_count": 20,
   "metadata": {},
   "outputs": [],
   "source": [
    "import numpy as np\n",
    "import math"
   ]
  },
  {
   "cell_type": "code",
   "execution_count": 21,
   "metadata": {
    "scrolled": false
   },
   "outputs": [
    {
     "name": "stdout",
     "output_type": "stream",
     "text": [
      "107 time: update_loss:92155.98089339581,y = -61.71105235402891 * x + 110.96187286819129\n",
      "108 time: update_loss:60703.35592126024,y = -50.97293996760795 * x + 100.22376048177033\n",
      "109 time: update_loss:36650.34379599118,y = -40.65229993907777 * x + 89.90312045324015\n",
      "110 time: update_loss:19390.850000849456,y = -30.836214463590295 * x + 80.08703497775268\n",
      "111 time: update_loss:8206.248531411888,y = -21.656701923689763 * x + 70.90752243785215\n",
      "112 time: update_loss:2206.870834115303,y = -13.336954258129447 * x + 62.58777477229184\n",
      "113 time: update_loss:206.26723089583803,y = -6.329864709538707 * x + 55.580685223701096\n",
      "116 time: update_loss:132.93967542530237,y = -3.739729884422843 * x + 48.87947037189554\n",
      "124 time: update_loss:110.16487177199122,y = -2.2662935602756216 * x + 35.07618982494779\n",
      "133 time: update_loss:89.11920698752103,y = 0.1750190138807879 * x + 18.93201051229187\n",
      "3279 time: update_loss:66.42583186785193,y = 15.861856865878295 * x + -77.71170802796141\n",
      "3286 time: update_loss:58.59830493149162,y = 13.394234574725683 * x + -59.21171886753285\n",
      "3370 time: update_loss:56.63800697127958,y = 14.175209200849466 * x + -67.1509305092383\n",
      "3449 time: update_loss:54.564406625795954,y = 12.467032963050313 * x + -58.13854286458818\n",
      "3552 time: update_loss:51.508539075192424,y = 12.520235768918326 * x + -54.68548572337519\n",
      "7433 time: update_loss:46.47086974966809,y = 9.708777332968959 * x + -40.12312151261908\n",
      "min_loss:46.47086974966809,y = 9.708777332968959 * x + -40.12312151261908\n"
     ]
    }
   ],
   "source": [
    "X_rm = X[:,5]\n",
    "trying_times = 10000\n",
    "\n",
    "# min_loss = float(\"inf\")\n",
    "min_loss = 100000\n",
    "best_k,best_b = None,None\n",
    "k = random.random() * 200 - 100\n",
    "b = random.random() * 200 - 100\n",
    "\n",
    "direction = [\n",
    "    (1,1),(1,-1),(-1,1),(-1,-1)\n",
    "]\n",
    "current_direction = random.choice(direction)\n",
    "\n",
    "for i in range(trying_times):\n",
    "    k = k+current_direction[0]*np.log(1+current_loss/2)\n",
    "    b = b+current_direction[1]*np.log(1+current_loss/2)\n",
    "    price_predict = [price(r,k,b) for r in X_rm]\n",
    "    \n",
    "    current_loss = loss(price_predict,y)\n",
    "    if current_loss<min_loss:\n",
    "        min_loss = current_loss\n",
    "        best_b,best_k = b,k\n",
    "        print('{} time: update_loss:{},y = {} * x + {}'.format(i,current_loss,k,b))\n",
    "    else:current_direction = random.choice(list(set(direction)-{current_direction}))\n",
    "    \n",
    "print('min_loss:{},y = {} * x + {}'.format(min_loss,best_k,best_b))"
   ]
  },
  {
   "cell_type": "code",
   "execution_count": 22,
   "metadata": {},
   "outputs": [
    {
     "data": {
      "text/plain": [
       "<matplotlib.collections.PathCollection at 0xaf271fd7f0>"
      ]
     },
     "execution_count": 22,
     "metadata": {},
     "output_type": "execute_result"
    },
    {
     "data": {
      "image/png": "[encoded data removed]",
      "text/plain": [
       "<Figure size 432x288 with 1 Axes>"
      ]
     },
     "metadata": {
      "needs_background": "light"
     },
     "output_type": "display_data"
    }
   ],
   "source": [
    "price_predict = [price(r,best_k,best_b) for r in X_rm]\n",
    "draw_rm_and_price()\n",
    "plt.scatter(X_rm,price_predict)"
   ]
  },
  {
   "cell_type": "markdown",
   "metadata": {},
   "source": [
    "## loss"
   ]
  },
  {
   "cell_type": "markdown",
   "metadata": {},
   "source": [
    " $$ loss = \\frac{1}{n} \\sum{(y_i - \\hat{y_i})}^2$$"
   ]
  },
  {
   "cell_type": "markdown",
   "metadata": {},
   "source": [
    "$$ loss = \\frac{1}{n}\\sum(y_{i}-(kx_{i} + b_{i}))^2$$"
   ]
  },
  {
   "cell_type": "markdown",
   "metadata": {},
   "source": [
    "$$ \\frac{\\partial{loss}}{\\partial{k}} = -\\frac{2}{n}\\sum(y_i-\\hat{y_i})x_i $$"
   ]
  },
  {
   "cell_type": "markdown",
   "metadata": {},
   "source": [
    "$$ \\frac{\\partial{loss}}{\\partial{b}} = -\\frac{2}{n}\\sum y_i-\\hat{y_i} $$"
   ]
  },
  {
   "cell_type": "code",
   "execution_count": 23,
   "metadata": {},
   "outputs": [],
   "source": [
    "def partial_k(x,y,y_hat):\n",
    "    n = len(y)\n",
    "    \n",
    "    return -sum((y_i - y_hat_i) * x_i for x_i,y_i,y_hat_i in zip(list(x),list(y),list(y_hat)))*2/n"
   ]
  },
  {
   "cell_type": "code",
   "execution_count": 27,
   "metadata": {},
   "outputs": [
    {
     "data": {
      "text/plain": [
       "20.01343196031407"
      ]
     },
     "execution_count": 27,
     "metadata": {},
     "output_type": "execute_result"
    }
   ],
   "source": [
    "partial_k(X_rm,y,price_predict)"
   ]
  },
  {
   "cell_type": "code",
   "execution_count": 30,
   "metadata": {},
   "outputs": [],
   "source": [
    "def partial_b(y,y_hat):\n",
    "    n = len(y)\n",
    "    \n",
    "    return -sum((y_i - y_hat_i) for y_i,y_hat_i in zip(list(y),list(y_hat)))*2/n"
   ]
  },
  {
   "cell_type": "code",
   "execution_count": 32,
   "metadata": {},
   "outputs": [
    {
     "data": {
      "text/plain": [
       "3.2796239016230984"
      ]
     },
     "execution_count": 32,
     "metadata": {},
     "output_type": "execute_result"
    }
   ],
   "source": [
    "partial_b(y,price_predict)"
   ]
  },
  {
   "cell_type": "code",
   "execution_count": 54,
   "metadata": {},
   "outputs": [
    {
     "name": "stdout",
     "output_type": "stream",
     "text": [
      "0 time: update_loss:84772.02663903208,y = 56.34901799727359 * x + -42.41407557872216\n",
      "100 time: update_loss:46.174300069721944,y = 11.374226921952973 * x + -49.123831129604085\n",
      "200 time: update_loss:46.05343235388222,y = 11.320234086495196 * x + -48.78037633157994\n",
      "300 time: update_loss:45.93824079710618,y = 11.26752429459271 * x + -48.44508312502256\n",
      "400 time: update_loss:45.82845883704919,y = 11.21606705700095 * x + -48.11775756424925\n",
      "500 time: update_loss:45.723832429600044,y = 11.165832608997952 * x + -47.79821031235106\n",
      "600 time: update_loss:45.62411946100266,y = 11.116791893167331 * x + -47.486256531673305\n",
      "700 time: update_loss:45.52908918758596,y = 11.068916542590449 * x + -47.18171577689896\n",
      "800 time: update_loss:45.438521701804746,y = 11.022178864437958 * x + -46.88441189067253\n",
      "900 time: update_loss:45.352207423356134,y = 10.97655182395127 * x + -46.59417290170428\n",
      "1000 time: update_loss:45.26994661419448,y = 10.932009028804677 * x + -46.310830925295804\n",
      "1100 time: update_loss:45.191548916321516,y = 10.888524713839075 * x + -46.03422206622953\n",
      "1200 time: update_loss:45.1168329112832,y = 10.846073726158462 * x + -45.764186323965696\n",
      "1300 time: update_loss:45.045625700352964,y = 10.804631510580625 * x + -45.50056750009248\n",
      "1400 time: update_loss:44.977762504430444,y = 10.764174095433502 * x + -45.24321310797502\n",
      "1500 time: update_loss:44.91308628272972,y = 10.724678078689115 * x + -44.99197428455169\n",
      "1600 time: update_loss:44.851447369374284,y = 10.686120614426995 * x + -44.74670570422633\n",
      "1700 time: update_loss:44.79270312705898,y = 10.648479399619278 * x + -44.50726549480674\n",
      "1800 time: update_loss:44.73671761697529,y = 10.611732661229832 * x + -44.27351515544064\n",
      "1900 time: update_loss:44.68336128423879,y = 10.575859143619931 * x + -44.04531947650174\n",
      "2000 time: update_loss:44.63251065808865,y = 10.540838096253252 * x + -43.82254646137971\n",
      "2100 time: update_loss:44.58404806616678,y = 10.506649261693003 * x + -43.60506725012854\n",
      "2200 time: update_loss:44.53786136221441,y = 10.473272863884299 * x + -43.392756044929364\n",
      "2300 time: update_loss:44.49384366655711,y = 10.440689596714943 * x + -43.18549003732416\n",
      "2400 time: update_loss:44.45189311877655,y = 10.408880612848133 * x + -42.983149337179384\n",
      "2500 time: update_loss:44.41191264199765,y = 10.377827512820447 * x + -42.78561690333688\n",
      "2600 time: update_loss:44.373809718244814,y = 10.347512334398917 * x + -42.592778475913036\n",
      "2700 time: update_loss:44.33749617434834,y = 10.317917542191067 * x + -42.404522510206945\n",
      "2800 time: update_loss:44.30288797790467,y = 10.28902601750178 * x + -42.22074011217882\n",
      "2900 time: update_loss:44.26990504281834,y = 10.26082104843123 * x + -42.041324975461684\n",
      "3000 time: update_loss:44.238471043977235,y = 10.233286320208125 * x + -41.86617331987005\n",
      "3100 time: update_loss:44.20851324062962,y = 10.206405905752648 * x + -41.69518383136966\n",
      "3200 time: update_loss:44.17996230805648,y = 10.180164256463664 * x + -41.528257603473804\n",
      "3300 time: update_loss:44.1527521771488,y = 10.154546193224842 * x + -41.36529808003222\n",
      "3400 time: update_loss:44.1268198815184,y = 10.129536897624524 * x + -41.20621099937963\n",
      "3500 time: update_loss:44.102105411788386,y = 10.1051219033842 * x + -41.05090433981127\n",
      "3600 time: update_loss:44.07855157672734,y = 10.081287087990699 * x + -40.899288266354276\n",
      "3700 time: update_loss:44.056103870903875,y = 10.058018664527214 * x + -40.75127507880385\n",
      "3800 time: update_loss:44.03471034855676,y = 10.035303173698477 * x + -40.606779160994456\n",
      "3900 time: update_loss:44.01432150338867,y = 10.013127476045367 * x + -40.46571693127605\n",
      "4000 time: update_loss:43.99489015400412,y = 9.99147874434462 * x + -40.3280067941677\n",
      "4100 time: update_loss:43.976371334728775,y = 9.970344456189085 * x + -40.193569093159766\n",
      "4200 time: update_loss:43.9587221915547,y = 9.94971238674431 * x + -40.06232606463764\n",
      "4300 time: update_loss:43.941901882972964,y = 9.92957060167724 * x + -39.9342017929004\n",
      "4400 time: update_loss:43.925871485463425,y = 9.909907450253014 * x + -39.80912216624869\n",
      "4500 time: update_loss:43.91059390342234,y = 9.89071155859571 * x + -39.68701483411556\n",
      "4600 time: update_loss:43.896033783320256,y = 9.871971823109321 * x + -39.56780916521646\n",
      "4700 time: update_loss:43.88215743189133,y = 9.85367740405501 * x + -39.451436206693444\n",
      "4800 time: update_loss:43.86893273816422,y = 9.835817719281009 * x + -39.33782864423035\n",
      "4900 time: update_loss:43.85632909915501,y = 9.818382438101574 * x + -39.22692076311601\n",
      "5000 time: update_loss:43.84431734904932,y = 9.801361475321285 * x + -39.11864841023222\n",
      "5100 time: update_loss:43.83286969171031,y = 9.78474498540142 * x + -39.01294895694531\n",
      "5200 time: update_loss:43.821959636356326,y = 9.76852335676495 * x + -38.90976126287952\n",
      "5300 time: update_loss:43.81156193625914,y = 9.752687206236864 * x + -38.80902564055131\n",
      "5400 time: update_loss:43.80165253032085,y = 9.73722737361658 * x + -38.71068382084379\n",
      "5500 time: update_loss:43.79220848739484,y = 9.722134916379362 * x + -38.6146789193018\n",
      "5600 time: update_loss:43.78320795322122,y = 9.707401104503656 * x + -38.52095540322802\n",
      "5700 time: update_loss:43.77463009985421,y = 9.693017415421314 * x + -38.4294590595607\n",
      "5800 time: update_loss:43.76645507746481,y = 9.678975529087836 * x + -38.34013696351494\n",
      "5900 time: update_loss:43.758663968406665,y = 9.66526732316976 * x + -38.25293744796905\n",
      "6000 time: update_loss:43.75123874343917,y = 9.651884868346409 * x + -38.16781007357851\n",
      "6100 time: update_loss:43.74416222000632,y = 9.638820423723292 * x + -38.08470559959994\n",
      "6200 time: update_loss:43.73741802247492,y = 9.626066432354483 * x + -38.00357595540851\n",
      "6300 time: update_loss:43.7309905442401,y = 9.613615516871414 * x + -37.924374212692165\n",
      "6400 time: update_loss:43.72486491161052,y = 9.601460475215537 * x + -37.84705455830656\n",
      "6500 time: update_loss:43.71902694938926,y = 9.58959427647241 * x + -37.771572267775205\n",
      "6600 time: update_loss:43.71346314807144,y = 9.578010056804722 * x + -37.69788367941899\n",
      "6700 time: update_loss:43.70816063258224,y = 9.56670111548206 * x + -37.62594616910099\n",
      "6800 time: update_loss:43.703107132482636,y = 9.555660911004908 * x + -37.555718125570834\n",
      "6900 time: update_loss:43.69829095357506,y = 9.544883057320845 * x + -37.48715892639546\n",
      "7000 time: update_loss:43.69370095084163,y = 9.534361320130612 * x + -37.420228914461546\n",
      "7100 time: update_loss:43.68932650265429,y = 9.52408961328196 * x + -37.35488937503643\n",
      "7200 time: update_loss:43.68515748619497,y = 9.514061995249202 * x + -37.291102513374064\n",
      "7300 time: update_loss:43.68118425403088,y = 9.504272665696444 * x + -37.228831432853326\n",
      "7400 time: update_loss:43.67739761178952,y = 9.494715962122422 * x + -37.16804011363544\n",
      "7500 time: update_loss:43.67378879688218,y = 9.485386356585142 * x + -37.10869339182905\n",
      "7600 time: update_loss:43.67034945822666,y = 9.4762784525043 * x + -37.05075693914995\n",
      "7700 time: update_loss:43.667071636922145,y = 9.467386981539699 * x + -36.99419724306449\n",
      "7800 time: update_loss:43.66394774783167,y = 9.458706800543878 * x + -36.9389815874047\n",
      "7900 time: update_loss:43.66097056202953,y = 9.45023288858711 * x + -36.88507803344406\n",
      "8000 time: update_loss:43.658133190073215,y = 9.441960344053115 * x + -36.83245540142298\n",
      "8100 time: update_loss:43.65542906606014,y = 9.43388438180379 * x + -36.781083252513305\n",
      "8200 time: update_loss:43.652851932434245,y = 9.426000330411318 * x + -36.73093187121141\n",
      "8300 time: update_loss:43.650395825505065,y = 9.418303629456057 * x + -36.68197224814978\n",
      "8400 time: update_loss:43.648055061647455,y = 9.410789826888584 * x + -36.63417606331665\n",
      "8500 time: update_loss:43.64582422414938,y = 9.403454576454516 * x + -36.58751566967499\n",
      "8600 time: update_loss:43.64369815067703,y = 9.396293635180475 * x + -36.541964077170434\n",
      "8700 time: update_loss:43.64167192132867,y = 9.38930286091978 * x + -36.49749493711912\n",
      "8800 time: update_loss:43.63974084724989,y = 9.382478209956464 * x + -36.45408252696659\n",
      "8900 time: update_loss:43.637900459782934,y = 9.375815734666302 * x + -36.4117017354093\n",
      "9000 time: update_loss:43.63614650012615,y = 9.369311581233305 * x + -36.37032804786894\n",
      "9100 time: update_loss:43.63447490947867,y = 9.362961987420565 * x + -36.32993753231256\n",
      "9200 time: update_loss:43.63288181964785,y = 9.356763280394025 * x + -36.29050682540932\n",
      "9300 time: update_loss:43.631363544098235,y = 9.350711874597991 * x + -36.252013119016276\n"
     ]
    },
    {
     "name": "stdout",
     "output_type": "stream",
     "text": [
      "9400 time: update_loss:43.629916569420516,y = 9.344804269681118 * x + -36.21443414698549\n",
      "9500 time: update_loss:43.628537547201184,y = 9.339037048471669 * x + -36.17774817228425\n",
      "9600 time: update_loss:43.62722328627411,y = 9.3334068750009 * x + -36.141933974421725\n",
      "9700 time: update_loss:43.625970745335884,y = 9.327910492573436 * x + -36.106970837174295\n",
      "9800 time: update_loss:43.62477702590794,y = 9.322544721883462 * x + -36.07283853660249\n",
      "9900 time: update_loss:43.623639365629565,y = 9.317306459175695 * x + -36.039517329352684\n",
      "min_loss:43.62256571807935,y = 9.312243205902739 * x + -36.007309377770504\n"
     ]
    }
   ],
   "source": [
    "X_rm_ = X[:,5]\n",
    "trying_times_ = 10000\n",
    "\n",
    "min_loss_ = float(\"inf\")\n",
    "# min_loss_ = 100000\n",
    "best_k_,best_b_ = None,None\n",
    "k_ = random.random() * 200 - 100\n",
    "b_ = random.random() * 200 - 100\n",
    "learning_rate = 0.01\n",
    "\n",
    "for i in range(trying_times_):\n",
    "    price_predict_ = [price(r,k_,b_) for r in X_rm_]\n",
    "   \n",
    "    current_loss = loss(price_predict_,y)\n",
    "#     print(current_loss)\n",
    "    if current_loss<min_loss_:\n",
    "        min_loss_ = current_loss\n",
    "        best_b_,best_k_ = b_,k_\n",
    "        if i%100==0:\n",
    "            print('{} time: update_loss:{},y = {} * x + {}'.format(i,current_loss,k_,b_))\n",
    "    \n",
    "    gradient_k = partial_k(X_rm_,y,price_predict_)\n",
    "    gradient_b = partial_b(y,price_predict_)\n",
    "\n",
    "    k_ = k_ - gradient_k * learning_rate\n",
    "    b_ = b_ - gradient_b * learning_rate\n",
    "    \n",
    "print('min_loss:{},y = {} * x + {}'.format(min_loss_,best_k_,best_b_))"
   ]
  },
  {
   "cell_type": "code",
   "execution_count": 53,
   "metadata": {},
   "outputs": [
    {
     "name": "stdout",
     "output_type": "stream",
     "text": [
      "-20.01343196031407\n",
      "-3.2796239016230984\n"
     ]
    }
   ],
   "source": [
    "print(partial_k(X_rm,y,price_predict))\n",
    "print(partial_b(y,price_predict))"
   ]
  },
  {
   "cell_type": "code",
   "execution_count": 55,
   "metadata": {},
   "outputs": [
    {
     "data": {
      "text/plain": [
       "<matplotlib.collections.PathCollection at 0xaf24289160>"
      ]
     },
     "execution_count": 55,
     "metadata": {},
     "output_type": "execute_result"
    },
    {
     "data": {
      "image/png": "[encoded data removed]",
      "text/plain": [
       "<Figure size 432x288 with 1 Axes>"
      ]
     },
     "metadata": {
      "needs_background": "light"
     },
     "output_type": "display_data"
    }
   ],
   "source": [
    "price_predict_ = [price(r,best_k_,best_b_) for r in X_rm_]\n",
    "draw_rm_and_price()\n",
    "plt.scatter(X_rm_,price_predict_)"
   ]
  },
  {
   "cell_type": "code",
   "execution_count": null,
   "metadata": {},
   "outputs": [],
   "source": [
    "使用梯度下降，loss下降的更快。\n",
    "模型复杂度是否真正符合要解决的问题\n",
    "删除 outliner 离群值\n",
    "初始化问题\n",
    "定义函数\n",
    "loss的定义方式\n",
    "快速求导 反向传播\n",
    "希望拟合出的二次函数比较平缓 a比较小"
   ]
  }
 ],
 "metadata": {
  "kernelspec": {
   "display_name": "Python 3",
   "language": "python",
   "name": "python3"
  },
  "language_info": {
   "codemirror_mode": {
    "name": "ipython",
    "version": 3
   },
   "file_extension": ".py",
   "mimetype": "text/x-python",
   "name": "python",
   "nbconvert_exporter": "python",
   "pygments_lexer": "ipython3",
   "version": "3.6.9"
  }
 },
 "nbformat": 4,
 "nbformat_minor": 2
}
