{
 "cells": [
  {
   "cell_type": "markdown",
   "metadata": {},
   "source": [
    "### 考虑如何生成函数，机器生成具体的函数"
   ]
  },
  {
   "cell_type": "code",
   "execution_count": 2,
   "metadata": {},
   "outputs": [],
   "source": [
    "from sklearn.datasets import load_boston"
   ]
  },
  {
   "cell_type": "code",
   "execution_count": 5,
   "metadata": {},
   "outputs": [],
   "source": [
    "data = load_boston()"
   ]
  },
  {
   "cell_type": "markdown",
   "metadata": {},
   "source": [
    "    Samples total                 506\n",
    "    Dimensionality                 13\n",
    "    Features           real, positive\n",
    "    Targets             real 5. - 50."
   ]
  },
  {
   "cell_type": "code",
   "execution_count": 8,
   "metadata": {},
   "outputs": [],
   "source": [
    "X, y = data['data'],data['target']"
   ]
  },
  {
   "cell_type": "code",
   "execution_count": 11,
   "metadata": {},
   "outputs": [
    {
     "data": {
      "text/plain": [
       "(array([6.320e-03, 1.800e+01, 2.310e+00, 0.000e+00, 5.380e-01, 6.575e+00,\n",
       "        6.520e+01, 4.090e+00, 1.000e+00, 2.960e+02, 1.530e+01, 3.969e+02,\n",
       "        4.980e+00]), 24.0)"
      ]
     },
     "execution_count": 11,
     "metadata": {},
     "output_type": "execute_result"
    }
   ],
   "source": [
    "X[0],y[0]"
   ]
  },
  {
   "cell_type": "code",
   "execution_count": 12,
   "metadata": {},
   "outputs": [
    {
     "data": {
      "text/plain": [
       "\".. _boston_dataset:\\n\\nBoston house prices dataset\\n---------------------------\\n\\n**Data Set Characteristics:**  \\n\\n    :Number of Instances: 506 \\n\\n    :Number of Attributes: 13 numeric/categorical predictive. Median Value (attribute 14) is usually the target.\\n\\n    :Attribute Information (in order):\\n        - CRIM     per capita crime rate by town\\n        - ZN       proportion of residential land zoned for lots over 25,000 sq.ft.\\n        - INDUS    proportion of non-retail business acres per town\\n        - CHAS     Charles River dummy variable (= 1 if tract bounds river; 0 otherwise)\\n        - NOX      nitric oxides concentration (parts per 10 million)\\n        - RM       average number of rooms per dwelling\\n        - AGE      proportion of owner-occupied units built prior to 1940\\n        - DIS      weighted distances to five Boston employment centres\\n        - RAD      index of accessibility to radial highways\\n        - TAX      full-value property-tax rate per $10,000\\n        - PTRATIO  pupil-teacher ratio by town\\n        - B        1000(Bk - 0.63)^2 where Bk is the proportion of blacks by town\\n        - LSTAT    % lower status of the population\\n        - MEDV     Median value of owner-occupied homes in $1000's\\n\\n    :Missing Attribute Values: None\\n\\n    :Creator: Harrison, D. and Rubinfeld, D.L.\\n\\nThis is a copy of UCI ML housing dataset.\\nhttps://archive.ics.uci.edu/ml/machine-learning-databases/housing/\\n\\n\\nThis dataset was taken from the StatLib library which is maintained at Carnegie Mellon University.\\n\\nThe Boston house-price data of Harrison, D. and Rubinfeld, D.L. 'Hedonic\\nprices and the demand for clean air', J. Environ. Economics & Management,\\nvol.5, 81-102, 1978.   Used in Belsley, Kuh & Welsch, 'Regression diagnostics\\n...', Wiley, 1980.   N.B. Various transformations are used in the table on\\npages 244-261 of the latter.\\n\\nThe Boston house-price data has been used in many machine learning papers that address regression\\nproblems.   \\n     \\n.. topic:: References\\n\\n   - Belsley, Kuh & Welsch, 'Regression diagnostics: Identifying Influential Data and Sources of Collinearity', Wiley, 1980. 244-261.\\n   - Quinlan,R. (1993). Combining Instance-Based and Model-Based Learning. In Proceedings on the Tenth International Conference of Machine Learning, 236-243, University of Massachusetts, Amherst. Morgan Kaufmann.\\n\""
      ]
     },
     "execution_count": 12,
     "metadata": {},
     "output_type": "execute_result"
    }
   ],
   "source": [
    "data['DESCR']"
   ]
  },
  {
   "cell_type": "code",
   "execution_count": 14,
   "metadata": {},
   "outputs": [],
   "source": [
    "%matplotlib inline"
   ]
  },
  {
   "cell_type": "code",
   "execution_count": 15,
   "metadata": {},
   "outputs": [],
   "source": [
    "import matplotlib.pyplot as plt"
   ]
  },
  {
   "cell_type": "code",
   "execution_count": 35,
   "metadata": {},
   "outputs": [],
   "source": [
    "def draw_rm_and_price():\n",
    "    plt.scatter(X[:,5],y)"
   ]
  },
  {
   "cell_type": "code",
   "execution_count": 37,
   "metadata": {},
   "outputs": [
    {
     "data": {
      "image/png": "[encoded data removed]",
      "text/plain": [
       "<Figure size 432x288 with 1 Axes>"
      ]
     },
     "metadata": {
      "needs_background": "light"
     },
     "output_type": "display_data"
    }
   ],
   "source": [
    "draw_rm_and_price()"
   ]
  },
  {
   "cell_type": "code",
   "execution_count": 38,
   "metadata": {},
   "outputs": [],
   "source": [
    "import random"
   ]
  },
  {
   "cell_type": "code",
   "execution_count": 39,
   "metadata": {},
   "outputs": [],
   "source": [
    "def price(rm,k,b):\n",
    "    \"\"\"f(x) = kx+b\"\"\"\n",
    "    return k * rm + b"
   ]
  },
  {
   "cell_type": "code",
   "execution_count": 51,
   "metadata": {},
   "outputs": [],
   "source": [
    "k = random.randint(-100,100)\n",
    "b = random.randint(-100,100)"
   ]
  },
  {
   "cell_type": "code",
   "execution_count": 41,
   "metadata": {},
   "outputs": [],
   "source": [
    "X_rm = X[:,5]"
   ]
  },
  {
   "cell_type": "code",
   "execution_count": 59,
   "metadata": {},
   "outputs": [],
   "source": [
    "price_predict = [price(r,k,b) for r in X_rm]"
   ]
  },
  {
   "cell_type": "code",
   "execution_count": 60,
   "metadata": {},
   "outputs": [
    {
     "data": {
      "text/plain": [
       "<matplotlib.collections.PathCollection at 0x7ceefa1080>"
      ]
     },
     "execution_count": 60,
     "metadata": {},
     "output_type": "execute_result"
    },
    {
     "data": {
      "image/png": "[encoded data removed]",
      "text/plain": [
       "<Figure size 432x288 with 1 Axes>"
      ]
     },
     "metadata": {
      "needs_background": "light"
     },
     "output_type": "display_data"
    }
   ],
   "source": [
    "draw_rm_and_price()\n",
    "plt.scatter(X_rm,price_predict)\n",
    "# 散点图 plt.scatter(x,y)\n",
    "# 写在同一块，放在一个图"
   ]
  },
  {
   "cell_type": "code",
   "execution_count": 73,
   "metadata": {},
   "outputs": [],
   "source": [
    "def loss(y,y_hat):\n",
    "    return sum((y_i - y_hat_i)**2 for y_i,y_hat_i in zip(list(y),list(y_hat)))/len(list(y))\n",
    "    "
   ]
  },
  {
   "cell_type": "code",
   "execution_count": 74,
   "metadata": {},
   "outputs": [
    {
     "data": {
      "text/plain": [
       "66.51842033003953"
      ]
     },
     "execution_count": 74,
     "metadata": {},
     "output_type": "execute_result"
    }
   ],
   "source": [
    "loss(price_predict,y)"
   ]
  },
  {
   "cell_type": "markdown",
   "metadata": {},
   "source": [
    "## 1st random ajust"
   ]
  },
  {
   "cell_type": "code",
   "execution_count": 90,
   "metadata": {
    "scrolled": true
   },
   "outputs": [
    {
     "name": "stdout",
     "output_type": "stream",
     "text": [
      "current_loss:674.677683186901,y = 1.0722894356544117 * x + 40.27465027037775\n",
      "current_loss:108465.10137975623,y = 65.91083559491034 * x + -64.84187631321612\n",
      "current_loss:326648.5531960764,y = 83.09702365456465 * x + 69.42695980867055\n",
      "current_loss:231110.67751677975,y = -61.230717056808714 * x + -70.8070708808652\n",
      "current_loss:165008.99175097788,y = -52.01147312784862 * x + -54.481757105514795\n",
      "current_loss:358835.36809159996,y = 98.63259778900152 * x + -1.6504590402890358\n",
      "current_loss:196562.17908545566,y = 68.28929783906415 * x + 34.71269070548615\n",
      "current_loss:268721.2209657197,y = -73.07993419594993 * x + -33.3078827753194\n",
      "current_loss:8084.580629764168,y = -24.22567133937075 * x + 88.21599905820443\n",
      "current_loss:1080.002388695954,y = 8.04575383702253 * x + -60.21647034203943\n",
      "current_loss:335596.29324252484,y = -75.61318799633247 * x + -78.47492131870221\n",
      "current_loss:759.5822600483775,y = -8.49306791855578 * x + 52.17157184732821\n",
      "current_loss:61380.25251769976,y = -37.017846842564815 * x + 9.638938437000789\n",
      "current_loss:316119.84567585523,y = 89.97540652698893 * x + 16.403604964987338\n",
      "current_loss:74284.56564314674,y = 37.3501907206377 * x + 59.55006148428589\n",
      "current_loss:944.4743055146561,y = 6.363255086745397 * x + 12.495002476428809\n",
      "current_loss:159390.7651116527,y = -45.53215592376492 * x + -88.65102137934984\n",
      "current_loss:276.0651120807023,y = -12.381469276299484 * x + 98.09548657484888\n",
      "current_loss:209727.03493787866,y = 64.17806599224863 * x + 75.47435729578592\n",
      "current_loss:107894.67105510333,y = 49.912415940396016 * x + 36.00667645702444\n",
      "current_loss:140798.4492329908,y = 51.93609888952554 * x + 70.09982327731117\n",
      "current_loss:379951.887016358,y = -86.60615907921287 * x + -45.87414776415417\n",
      "current_loss:210207.8445368944,y = -70.66671970264682 * x + 11.642696666727176\n",
      "current_loss:1132.3976796128647,y = -6.821235201490779 * x + 96.44807705659855\n",
      "current_loss:102342.11386793292,y = 56.379288498120104 * x + -13.675218104162852\n",
      "current_loss:11065.484045973864,y = -23.23281608538403 * x + 66.04013537314947\n",
      "current_loss:153871.25459653835,y = 79.3374578627982 * x + -86.97619584936022\n",
      "current_loss:28194.815175626238,y = 41.01915165797146 * x + -68.9767565030595\n",
      "current_loss:239868.17872679778,y = 95.15318109042343 * x + -89.49044121697247\n",
      "current_loss:274840.40336720884,y = -90.96881763023528 * x + 74.75530412919943\n",
      "current_loss:125040.78887999497,y = 62.415037235265686 * x + -18.15949420100749\n",
      "current_loss:119293.04103681716,y = -40.8788720735038 * x + -64.09683878204176\n",
      "current_loss:4278.9013732915455,y = 12.134597622930457 * x + 11.315666317807754\n",
      "current_loss:57695.32109163382,y = 26.01368828630612 * x + 98.86039972807836\n",
      "current_loss:103143.15478748581,y = -60.8628107673115 * x + 87.71996233913623\n",
      "current_loss:110873.97343314881,y = -63.39389130057997 * x + 91.94034285467262\n",
      "current_loss:17197.106010030013,y = 8.8187356912685 * x + 98.08151746155741\n",
      "current_loss:160280.73189974728,y = -51.981854025698325 * x + -48.773665964641836\n",
      "current_loss:282504.3874538299,y = 91.00101899994445 * x + -21.02310779110617\n",
      "current_loss:99545.63980016962,y = 37.78470204441422 * x + 99.86605704568191\n",
      "current_loss:58056.077320725766,y = 38.77552903746292 * x + 18.798305669611693\n",
      "current_loss:97470.57478098702,y = 50.06259265835337 * x + 18.713682269786048\n",
      "current_loss:141766.95962536495,y = -47.247800382390245 * x + -54.91005737961443\n",
      "current_loss:96.49123705266254,y = 7.180131070433916 * x + -15.44531772934377\n",
      "current_loss:132626.67658105976,y = -41.745246381444126 * x + -77.47974485843964\n",
      "current_loss:140706.07368606256,y = -58.16610538423335 * x + 16.019629737112396\n",
      "current_loss:98539.15026184633,y = -43.65589195002093 * x + -14.75339686975039\n",
      "current_loss:59224.40396593036,y = 39.56913666935699 * x + 16.18449667540267\n",
      "current_loss:286007.1690873898,y = -65.73543332355705 * x + -96.51331710328623\n",
      "current_loss:273360.48175720265,y = 93.25854432781847 * x + -44.113856231825935\n",
      "current_loss:80756.58899874358,y = -38.35458625143908 * x + -18.5633353973583\n",
      "current_loss:133879.51604464048,y = -49.17348576153493 * x + -31.97169670134194\n",
      "current_loss:105732.96160985384,y = -37.212462935529736 * x + -67.06995848667336\n",
      "current_loss:199690.73665053648,y = 86.1914223671294 * x + -75.61842711504883\n",
      "current_loss:50996.975675521455,y = -40.78487010625367 * x + 55.854841011484126\n",
      "current_loss:130314.20362211905,y = -65.97370307341347 * x + 80.0909682649137\n",
      "current_loss:90025.14065685814,y = 56.57707694582015 * x + -34.9209282482891\n",
      "current_loss:6320.28192583385,y = 17.484935137457086 * x + -8.34691727542021\n",
      "current_loss:12279.17467884533,y = -21.468440703964248 * x + 48.94087454564129\n",
      "current_loss:165.64093593137315,y = -3.7932634756429024 * x + 40.03885169463908\n",
      "current_loss:14387.180154306416,y = -20.151311196562744 * x + 31.185118638188328\n",
      "current_loss:156702.2393979247,y = 53.6703838468774 * x + 79.79709434026839\n",
      "current_loss:259508.28934565472,y = 95.99900067270318 * x + -75.07412501736542\n",
      "current_loss:439867.8562861449,y = -95.87814900823916 * x + -33.99406474489268\n",
      "current_loss:89812.59376421566,y = 54.89195798899004 * x + -24.557273308787856\n",
      "current_loss:29991.27698116931,y = -17.958571380710197 * x + -36.612525924421234\n",
      "current_loss:37635.375352977884,y = 30.754112718021133 * x + 22.54385862243315\n",
      "current_loss:151006.0264754312,y = -63.82297807066575 * x + 38.48466053088242\n",
      "current_loss:2458.7797503439842,y = -0.41231598651631884 * x + -23.564523534385145\n",
      "current_loss:98962.18706937348,y = -41.92903485079966 * x + -26.425370707065383\n",
      "current_loss:1949.1727656183803,y = 12.0920585916827 * x + -9.858980041895762\n",
      "current_loss:84858.1612675458,y = 60.394789022337534 * x + -68.03101621545812\n",
      "current_loss:31637.156630605114,y = -34.921174002183974 * x + 66.96051199174639\n",
      "current_loss:96624.71768251566,y = -31.701659933852923 * x + -87.68627990543358\n",
      "current_loss:273333.30848541175,y = 76.77053189180396 * x + 60.66700294733434\n",
      "current_loss:293064.8659360127,y = 95.87701771899731 * x + -42.14251220699523\n",
      "current_loss:209070.01819247336,y = -78.87639821394416 * x + 65.23788213039924\n",
      "current_loss:74456.43350367619,y = 56.34896102933192 * x + -60.836064922972355\n",
      "current_loss:90767.24379171249,y = 59.72225398004713 * x + -53.69913718105681\n",
      "current_loss:214135.2052006225,y = -82.0409077757599 * x + 79.8736987601969\n",
      "current_loss:50808.04900755623,y = -44.459043606863524 * x + 79.79077775447732\n",
      "current_loss:15731.138511487554,y = -7.973325025736401 * x + -52.03286920098746\n",
      "current_loss:67757.18376769837,y = -38.37521062633466 * x + 5.631402459443493\n",
      "current_loss:172.629385139393,y = 4.340990332070319 * x + -15.605078918560935\n",
      "current_loss:237903.2447954322,y = 78.86988237106365 * x + 12.108111969514951\n",
      "current_loss:17426.909835958784,y = -31.70507899017541 * x + 93.09086016783411\n",
      "current_loss:478315.1978237301,y = -91.58202053403299 * x + -89.85898534048134\n",
      "current_loss:108535.44157455297,y = -57.991590230154124 * x + 60.99190531536257\n",
      "current_loss:324169.34971459775,y = -78.9760607346827 * x + -47.08517838393107\n",
      "current_loss:5725.38274026245,y = -11.96308900357461 * x + 23.803306284642176\n",
      "current_loss:139022.09567532482,y = -52.62737333896297 * x + -16.99500421450159\n",
      "current_loss:382016.3495247073,y = -91.49141564496439 * x + -16.469880030133083\n",
      "current_loss:27245.38533761908,y = 16.41259942626101 * x + 84.23541043043986\n",
      "current_loss:65347.02603522948,y = -34.928936789666395 * x + -11.621107812323899\n",
      "current_loss:326279.4607306971,y = -77.0405625660184 * x + -61.256502698446404\n",
      "current_loss:8973.358969435143,y = 10.702769664857655 * x + 49.76053157181735\n",
      "current_loss:289990.4040002527,y = 80.8299536396004 * x + 50.65424583059789\n",
      "current_loss:117431.8539308083,y = -55.61314875036813 * x + 32.446039778099134\n",
      "current_loss:105682.9091714382,y = 40.66693305169517 * x + 91.22196781019198\n",
      "current_loss:62370.45905309255,y = 40.384618756023144 * x + 17.41620763517335\n",
      "min_loss:96.49123705266254,y = 7.180131070433916 * x + -15.44531772934377\n"
     ]
    }
   ],
   "source": [
    "X_rm = X[:,5]\n",
    "trying_times = 100\n",
    "\n",
    "min_loss = float(\"inf\")\n",
    "best_k,best_b = None,None\n",
    "for i in range(trying_times):\n",
    "    k = random.random() * 200 - 100\n",
    "    b = random.random() * 200 - 100\n",
    "    price_predict = [price(r,k,b) for r in X_rm]\n",
    "    \n",
    "    current_loss = loss(price_predict,y)\n",
    "    if current_loss<min_loss:\n",
    "        min_loss = current_loss\n",
    "        best_b,best_k = b,k\n",
    "    print('current_loss:{},y = {} * x + {}'.format(current_loss,k,b))\n",
    "print('min_loss:{},y = {} * x + {}'.format(min_loss,best_k,best_b))"
   ]
  },
  {
   "cell_type": "code",
   "execution_count": 91,
   "metadata": {},
   "outputs": [
    {
     "data": {
      "text/plain": [
       "<matplotlib.collections.PathCollection at 0x7cf0cec780>"
      ]
     },
     "execution_count": 91,
     "metadata": {},
     "output_type": "execute_result"
    },
    {
     "data": {
      "image/png": "[encoded data removed]",
      "text/plain": [
       "<Figure size 432x288 with 1 Axes>"
      ]
     },
     "metadata": {
      "needs_background": "light"
     },
     "output_type": "display_data"
    }
   ],
   "source": [
    "price_predict = [price(r,best_k,best_b) for r in X_rm]\n",
    "draw_rm_and_price()\n",
    "plt.scatter(X_rm,price_predict)"
   ]
  },
  {
   "cell_type": "markdown",
   "metadata": {},
   "source": [
    "## 2nd direction ajusting 监督学习"
   ]
  },
  {
   "cell_type": "code",
   "execution_count": 104,
   "metadata": {},
   "outputs": [],
   "source": [
    "import numpy as np\n",
    "import math"
   ]
  },
  {
   "cell_type": "code",
   "execution_count": 140,
   "metadata": {},
   "outputs": [
    {
     "name": "stdout",
     "output_type": "stream",
     "text": [
      "0 time: update_loss:1139.149811494291,y = 7.634680777513128 * x + 7.634680777513128\n",
      "1 time: update_loss:609.0398261440575,y = 6.3466444591006805 * x + 6.3466444591006805\n",
      "2 time: update_loss:415.95136939523076,y = 5.7220149583925695 * x + 5.7220149583925695\n",
      "3 time: update_loss:318.9781269764152,y = 5.342217904036918 * x + 5.342217904036918\n",
      "4 time: update_loss:260.6758233777437,y = 5.0782257999880285 * x + 5.0782257999880285\n",
      "5 time: update_loss:221.39244580311905,y = 4.877773480597375 * x + 4.877773480597375\n",
      "6 time: update_loss:192.79110508455435,y = 4.715782890835204 * x + 4.715782890835204\n",
      "7 time: update_loss:170.79563906653917,y = 4.578780547822356 * x + 4.578780547822356\n",
      "8 time: update_loss:153.20716031713846,y = 4.458962438608101 * x + 4.458962438608101\n",
      "9 time: update_loss:138.75516596002967,y = 4.351613562188974 * x + 4.351613562188974\n",
      "10 time: update_loss:126.67052815333932,y = 4.253874788877109 * x + 4.253874788877109\n",
      "11 time: update_loss:116.47304050817431,y = 4.1641079113408885 * x + 4.1641079113408885\n",
      "12 time: update_loss:107.85528047997602,y = 4.081538247871633 * x + 4.081538247871633\n",
      "13 time: update_loss:100.61257977191168,y = 4.006016687028652 * x + 4.006016687028652\n",
      "14 time: update_loss:94.5967239023008,y = 3.937813354523436 * x + 3.937813354523436\n",
      "15 time: update_loss:89.68395619799375,y = 3.8773976460285753 * x + 3.8773976460285753\n",
      "16 time: update_loss:85.75429076992154,y = 3.8252002237223306 * x + 3.8252002237223306\n",
      "17 time: update_loss:82.68156904709718,y = 3.7813935782535015 * x + 3.7813935782535015\n",
      "18 time: update_loss:80.33315079366301,y = 3.7457507946694117 * x + 3.7457507946694117\n",
      "19 time: update_loss:78.57616926128578,y = 3.7176266503164483 * x + 3.7176266503164483\n",
      "20 time: update_loss:77.2859978528188,y = 3.696055758501184 * x + 3.696055758501184\n",
      "21 time: update_loss:76.35317127112374,y = 3.679914360646819 * x + 3.679914360646819\n",
      "22 time: update_loss:75.68694333463606,y = 3.668079263123332 * x + 3.668079263123332\n",
      "23 time: update_loss:75.2155658585848,y = 3.6595400232421724 * x + 3.6595400232421724\n",
      "24 time: update_loss:74.88437031712189,y = 3.6534538864386787 * x + 3.6534538864386787\n",
      "25 time: update_loss:74.65284745955157,y = 3.6491554284427417 * x + 3.6491554284427417\n",
      "26 time: update_loss:74.49158937576603,y = 3.6461395729204735 * x + 3.6461395729204735\n",
      "27 time: update_loss:74.37956111464797,y = 3.644033611427948 * x + 3.644033611427948\n",
      "28 time: update_loss:74.30187475418793,y = 3.642567955144037 * x + 3.642567955144037\n",
      "29 time: update_loss:74.24807130791704,y = 3.641550328256759 * x + 3.641550328256759\n",
      "30 time: update_loss:74.21084149206939,y = 3.6408449402852696 * x + 3.6408449402852696\n",
      "31 time: update_loss:74.18509580503998,y = 3.6403565488110825 * x + 3.6403565488110825\n",
      "32 time: update_loss:74.16729938001977,y = 3.640018669892117 * x + 3.640018669892117\n",
      "33 time: update_loss:74.15500143072295,y = 3.6397850480303857 * x + 3.6397850480303857\n",
      "34 time: update_loss:74.14650485747183,y = 3.6396235752945083 * x + 3.6396235752945083\n",
      "35 time: update_loss:74.1406354604343,y = 3.639511999598811 * x + 3.639511999598811\n",
      "36 time: update_loss:74.13658130205684,y = 3.639434916306969 * x + 3.639434916306969\n",
      "37 time: update_loss:74.13378116950403,y = 3.639381669229506 * x + 3.639381669229506\n",
      "38 time: update_loss:74.13184725977688,y = 3.639344890797936 * x + 3.639344890797936\n",
      "39 time: update_loss:74.13051164934996,y = 3.6393194890083502 * x + 3.6393194890083502\n",
      "40 time: update_loss:74.12958926116643,y = 3.639301945467891 * x + 3.639301945467891\n",
      "41 time: update_loss:74.12895225889727,y = 3.6392898295139675 * x + 3.6392898295139675\n",
      "42 time: update_loss:74.12851234912074,y = 3.639281462137493 * x + 3.639281462137493\n",
      "43 time: update_loss:74.12820855241422,y = 3.6392756836388473 * x + 3.6392756836388473\n",
      "44 time: update_loss:74.12799875491456,y = 3.6392716930536735 * x + 3.6392716930536735\n",
      "45 time: update_loss:74.12785387237992,y = 3.639268937205444 * x + 3.639268937205444\n",
      "46 time: update_loss:74.12775381924246,y = 3.639267034059757 * x + 3.639267034059757\n",
      "47 time: update_loss:74.12768472455375,y = 3.6392657197812355 * x + 3.6392657197812355\n",
      "48 time: update_loss:74.12763700920345,y = 3.6392648121658575 * x + 3.6392648121658575\n",
      "49 time: update_loss:74.12760405800438,y = 3.639264185385135 * x + 3.639264185385135\n",
      "50 time: update_loss:74.12758130262462,y = 3.6392637525435614 * x + 3.6392637525435614\n",
      "51 time: update_loss:74.12756558826119,y = 3.6392634536324966 * x + 3.6392634536324966\n",
      "52 time: update_loss:74.12755473627136,y = 3.6392632472110553 * x + 3.6392632472110553\n",
      "53 time: update_loss:74.12754724212988,y = 3.639263104660975 * x + 3.639263104660975\n",
      "54 time: update_loss:74.12754206684386,y = 3.6392630062190654 * x + 3.6392630062190654\n",
      "55 time: update_loss:74.1275384929079,y = 3.639262938237285 * x + 3.639262938237285\n",
      "56 time: update_loss:74.1275360248283,y = 3.6392628912905964 * x + 3.6392628912905964\n",
      "57 time: update_loss:74.12753432042834,y = 3.63926285887027 * x + 3.63926285887027\n",
      "58 time: update_loss:74.12753314340819,y = 3.639262836481525 * x + 3.639262836481525\n",
      "59 time: update_loss:74.1275323305847,y = 3.639262821020363 * x + 3.639262821020363\n",
      "60 time: update_loss:74.12753176926724,y = 3.639262810343234 * x + 3.639262810343234\n",
      "61 time: update_loss:74.12753138163404,y = 3.6392628029698506 * x + 3.6392628029698506\n",
      "62 time: update_loss:74.12753111394335,y = 3.6392627978779584 * x + 3.6392627978779584\n",
      "63 time: update_loss:74.12753092908217,y = 3.639262794361613 * x + 3.639262794361613\n",
      "64 time: update_loss:74.12753080142123,y = 3.639262791933304 * x + 3.639262791933304\n",
      "65 time: update_loss:74.12753071326152,y = 3.6392627902563683 * x + 3.6392627902563683\n",
      "66 time: update_loss:74.12753065238039,y = 3.6392627890983156 * x + 3.6392627890983156\n",
      "67 time: update_loss:74.12753061033723,y = 3.63926278829859 * x + 3.63926278829859\n",
      "68 time: update_loss:74.12753058130325,y = 3.6392627877463175 * x + 3.6392627877463175\n",
      "69 time: update_loss:74.12753056125305,y = 3.639262787364931 * x + 3.639262787364931\n",
      "70 time: update_loss:74.12753054740676,y = 3.6392627871015546 * x + 3.6392627871015546\n",
      "71 time: update_loss:74.1275305378449,y = 3.639262786919672 * x + 3.639262786919672\n",
      "72 time: update_loss:74.12753053124169,y = 3.639262786794069 * x + 3.639262786794069\n",
      "73 time: update_loss:74.12753052668161,y = 3.63926278670733 * x + 3.63926278670733\n",
      "74 time: update_loss:74.12753052353254,y = 3.6392627866474294 * x + 3.6392627866474294\n",
      "75 time: update_loss:74.12753052135794,y = 3.639262786606064 * x + 3.639262786606064\n",
      "76 time: update_loss:74.12753051985614,y = 3.6392627865774987 * x + 3.6392627865774987\n",
      "77 time: update_loss:74.12753051881899,y = 3.639262786557771 * x + 3.639262786557771\n",
      "78 time: update_loss:74.12753051810287,y = 3.639262786544147 * x + 3.639262786544147\n",
      "79 time: update_loss:74.12753051760825,y = 3.6392627865347404 * x + 3.6392627865347404\n",
      "80 time: update_loss:74.12753051726675,y = 3.639262786528243 * x + 3.639262786528243\n",
      "81 time: update_loss:74.12753051703095,y = 3.6392627865237572 * x + 3.6392627865237572\n",
      "82 time: update_loss:74.12753051686806,y = 3.6392627865206597 * x + 3.6392627865206597\n",
      "83 time: update_loss:74.12753051675563,y = 3.63926278651852 * x + 3.63926278651852\n",
      "84 time: update_loss:74.12753051667784,y = 3.639262786517043 * x + 3.639262786517043\n",
      "85 time: update_loss:74.12753051662416,y = 3.639262786516021 * x + 3.639262786516021\n",
      "86 time: update_loss:74.12753051658713,y = 3.6392627865153164 * x + 3.6392627865153164\n",
      "87 time: update_loss:74.12753051656149,y = 3.6392627865148297 * x + 3.6392627865148297\n",
      "88 time: update_loss:74.12753051654389,y = 3.639262786514493 * x + 3.639262786514493\n",
      "89 time: update_loss:74.12753051653169,y = 3.6392627865142617 * x + 3.6392627865142617\n",
      "90 time: update_loss:74.12753051652324,y = 3.6392627865141014 * x + 3.6392627865141014\n",
      "91 time: update_loss:74.12753051651738,y = 3.6392627865139904 * x + 3.6392627865139904\n",
      "92 time: update_loss:74.12753051651337,y = 3.6392627865139136 * x + 3.6392627865139136\n",
      "93 time: update_loss:74.12753051651066,y = 3.639262786513861 * x + 3.639262786513861\n",
      "94 time: update_loss:74.12753051650868,y = 3.639262786513825 * x + 3.639262786513825\n",
      "95 time: update_loss:74.12753051650728,y = 3.6392627865137994 * x + 3.6392627865137994\n",
      "96 time: update_loss:74.12753051650641,y = 3.6392627865137808 * x + 3.6392627865137808\n",
      "97 time: update_loss:74.12753051650584,y = 3.6392627865137697 * x + 3.6392627865137697\n",
      "98 time: update_loss:74.12753051650532,y = 3.639262786513762 * x + 3.639262786513762\n",
      "99 time: update_loss:74.12753051650498,y = 3.639262786513755 * x + 3.639262786513755\n",
      "100 time: update_loss:74.12753051650476,y = 3.6392627865137506 * x + 3.6392627865137506\n",
      "101 time: update_loss:74.12753051650469,y = 3.639262786513748 * x + 3.639262786513748\n",
      "102 time: update_loss:74.12753051650468,y = 3.639262786513747 * x + 3.639262786513747\n",
      "103 time: update_loss:74.12753051650465,y = 3.6392627865137466 * x + 3.6392627865137466\n",
      "111 time: update_loss:60.72302425529844,y = 4.799035250217857 * x + -4.799035250217857\n",
      "129 time: update_loss:55.469493694074835,y = 4.210452675690798 * x + -4.210452675690798\n",
      "228 time: update_loss:54.946089388406335,y = 4.368286212603813 * x + -4.368286212603813\n"
     ]
    },
    {
     "name": "stdout",
     "output_type": "stream",
     "text": [
      "2483 time: update_loss:54.935303054017346,y = 4.35432823994304 * x + -4.35432823994304\n",
      "2937 time: update_loss:54.934218037115976,y = 4.350078321720596 * x + -4.350078321720596\n",
      "8060 time: update_loss:54.93420829750176,y = 4.345418586715367 * x + -4.345418586715367\n",
      "min_loss:54.93420829750176,y = 4.345418586715367 * x + -4.345418586715367\n"
     ]
    }
   ],
   "source": [
    "X_rm = X[:,5]\n",
    "trying_times = 10000\n",
    "\n",
    "# min_loss = float(\"inf\")\n",
    "min_loss = 100000\n",
    "best_k,best_b = None,None\n",
    "k = random.random() * 200 - 100\n",
    "b = random.random() * 200 - 100\n",
    "\n",
    "direction = [\n",
    "    (1,1),(1,-1),(-1,1),(-1,-1)\n",
    "]\n",
    "current_direction = random.choice(direction)\n",
    "\n",
    "for i in range(trying_times):\n",
    "    k = current_direction[0]*np.log(1+current_loss/2)\n",
    "    b = current_direction[1]*np.log(1+current_loss/2)\n",
    "    price_predict = [price(r,k,b) for r in X_rm]\n",
    "    \n",
    "    current_loss = loss(price_predict,y)\n",
    "    if current_loss<min_loss:\n",
    "        min_loss = current_loss\n",
    "        best_b,best_k = b,k\n",
    "        print('{} time: update_loss:{},y = {} * x + {}'.format(i,current_loss,k,b))\n",
    "    else:current_direction = random.choice(list(set(direction)-{current_direction}))\n",
    "    \n",
    "print('min_loss:{},y = {} * x + {}'.format(min_loss,best_k,best_b))"
   ]
  },
  {
   "cell_type": "code",
   "execution_count": 141,
   "metadata": {},
   "outputs": [
    {
     "data": {
      "text/plain": [
       "<matplotlib.collections.PathCollection at 0x7cf26777b8>"
      ]
     },
     "execution_count": 141,
     "metadata": {},
     "output_type": "execute_result"
    },
    {
     "data": {
      "image/png": "[encoded data removed]",
      "text/plain": [
       "<Figure size 432x288 with 1 Axes>"
      ]
     },
     "metadata": {
      "needs_background": "light"
     },
     "output_type": "display_data"
    }
   ],
   "source": [
    "price_predict = [price(r,best_k,best_b) for r in X_rm]\n",
    "draw_rm_and_price()\n",
    "plt.scatter(X_rm,price_predict)"
   ]
  },
  {
   "cell_type": "code",
   "execution_count": null,
   "metadata": {},
   "outputs": [],
   "source": []
  }
 ],
 "metadata": {
  "kernelspec": {
   "display_name": "Python 3",
   "language": "python",
   "name": "python3"
  },
  "language_info": {
   "codemirror_mode": {
    "name": "ipython",
    "version": 3
   },
   "file_extension": ".py",
   "mimetype": "text/x-python",
   "name": "python",
   "nbconvert_exporter": "python",
   "pygments_lexer": "ipython3",
   "version": "3.6.9"
  }
 },
 "nbformat": 4,
 "nbformat_minor": 2
}
