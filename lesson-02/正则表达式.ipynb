{
 "cells": [
  {
   "cell_type": "code",
   "execution_count": 1,
   "metadata": {},
   "outputs": [],
   "source": [
    "string = \"{name:'兰州',geoCoord:[223.45,343.55]},\""
   ]
  },
  {
   "cell_type": "code",
   "execution_count": 2,
   "metadata": {},
   "outputs": [],
   "source": [
    "import re"
   ]
  },
  {
   "cell_type": "code",
   "execution_count": 3,
   "metadata": {},
   "outputs": [],
   "source": [
    "pattern = r\"name:'\\w+'\"\n",
    "# 前面r代表正则表达式，"
   ]
  },
  {
   "cell_type": "code",
   "execution_count": 4,
   "metadata": {},
   "outputs": [
    {
     "data": {
      "text/plain": [
       "[\"name:'兰州'\"]"
      ]
     },
     "execution_count": 4,
     "metadata": {},
     "output_type": "execute_result"
    }
   ],
   "source": [
    "re.findall(pattern,string)\n",
    "# 把所有满足pattern的字符串找出来"
   ]
  },
  {
   "cell_type": "code",
   "execution_count": 5,
   "metadata": {},
   "outputs": [
    {
     "data": {
      "text/plain": [
       "[('兰州', '223.45', '343.55')]"
      ]
     },
     "execution_count": 5,
     "metadata": {},
     "output_type": "execute_result"
    }
   ],
   "source": [
    "# ()内是要提取的内容\n",
    "# + 1或多 ，* 0或多 ，？ 0或1\n",
    "# []前要转义\n",
    "pattern1 = r\"name:'(\\w+)',\\s*geoCoord:\\[(\\d+.\\d+),\\s*(\\d+.\\d+)\\]\"\n",
    "re.findall(pattern1,string)"
   ]
  },
  {
   "cell_type": "code",
   "execution_count": 6,
   "metadata": {},
   "outputs": [],
   "source": [
    "pattern2 = re.compile(r\"name:'(\\w+)',\\s*geoCoord:\\[(\\d+.\\d+),\\s*(\\d+.\\d+)\\]\")"
   ]
  },
  {
   "cell_type": "code",
   "execution_count": 7,
   "metadata": {},
   "outputs": [],
   "source": [
    "coordination_source = \"\"\"\n",
    "{name:'兰州', geoCoord:[103.73, 36.03]},\n",
    "{name:'嘉峪关', geoCoord:[98.17, 39.47]},\n",
    "{name:'西宁', geoCoord:[101.74, 36.56]},\n",
    "{name:'成都', geoCoord:[104.06, 30.67]},\n",
    "{name:'石家庄', geoCoord:[114.48, 38.03]},\n",
    "{name:'拉萨', geoCoord:[102.73, 25.04]},\n",
    "{name:'贵阳', geoCoord:[106.71, 26.57]},\n",
    "{name:'武汉', geoCoord:[114.31, 30.52]},\n",
    "{name:'郑州', geoCoord:[113.65, 34.76]},\n",
    "{name:'济南', geoCoord:[117, 36.65]},\n",
    "{name:'南京', geoCoord:[118.78, 32.04]},\n",
    "{name:'合肥', geoCoord:[117.27, 31.86]},\n",
    "{name:'杭州', geoCoord:[120.19, 30.26]},\n",
    "{name:'南昌', geoCoord:[115.89, 28.68]},\n",
    "{name:'福州', geoCoord:[119.3, 26.08]},\n",
    "{name:'广州', geoCoord:[113.23, 23.16]},\n",
    "{name:'长沙', geoCoord:[113, 28.21]},\n",
    "//{name:'海口', geoCoord:[110.35, 20.02]},\n",
    "{name:'沈阳', geoCoord:[123.38, 41.8]},\n",
    "{name:'长春', geoCoord:[125.35, 43.88]},\n",
    "{name:'哈尔滨', geoCoord:[126.63, 45.75]},\n",
    "{name:'太原', geoCoord:[112.53, 37.87]},\n",
    "{name:'西安', geoCoord:[108.95, 34.27]},\n",
    "//{name:'台湾', geoCoord:[121.30, 25.03]},\n",
    "{name:'北京', geoCoord:[116.46, 39.92]},\n",
    "{name:'上海', geoCoord:[121.48, 31.22]},\n",
    "{name:'重庆', geoCoord:[106.54, 29.59]},\n",
    "{name:'天津', geoCoord:[117.2, 39.13]},\n",
    "{name:'呼和浩特', geoCoord:[111.65, 40.82]},\n",
    "{name:'南宁', geoCoord:[108.33, 22.84]},\n",
    "//{name:'西藏', geoCoord:[91.11, 29.97]},\n",
    "{name:'银川', geoCoord:[106.27, 38.47]},\n",
    "{name:'乌鲁木齐', geoCoord:[87.68, 43.77]},\n",
    "{name:'香港', geoCoord:[114.17, 22.28]},\n",
    "{name:'澳门', geoCoord:[113.54, 22.19]}\n",
    "\"\"\""
   ]
  },
  {
   "cell_type": "code",
   "execution_count": 8,
   "metadata": {},
   "outputs": [],
   "source": [
    "city_location = {}\n",
    "for line in coordination_source.split('\\n'):\n",
    "#     print(line)\n",
    "    city_info = pattern2.findall(line)\n",
    "#     pattern.findall 返回匹配的字符串组成的元组的字符串\n",
    "#     print(city_info)\n",
    "    if not city_info:\n",
    "        continue\n",
    "#         还会有找不到的情况？\n",
    "    city,long,lat = city_info[0]\n",
    "    long,lat = float(long),float(lat)\n",
    "    city_location[city] = (long,lat)"
   ]
  },
  {
   "cell_type": "code",
   "execution_count": 9,
   "metadata": {},
   "outputs": [
    {
     "data": {
      "text/plain": [
       "{'兰州': (103.73, 36.03),\n",
       " '嘉峪关': (98.17, 39.47),\n",
       " '西宁': (101.74, 36.56),\n",
       " '成都': (104.06, 30.67),\n",
       " '石家庄': (114.48, 38.03),\n",
       " '拉萨': (102.73, 25.04),\n",
       " '贵阳': (106.71, 26.57),\n",
       " '武汉': (114.31, 30.52),\n",
       " '郑州': (113.65, 34.76),\n",
       " '济南': (117.0, 36.65),\n",
       " '南京': (118.78, 32.04),\n",
       " '合肥': (117.27, 31.86),\n",
       " '杭州': (120.19, 30.26),\n",
       " '南昌': (115.89, 28.68),\n",
       " '福州': (119.3, 26.08),\n",
       " '广州': (113.23, 23.16),\n",
       " '长沙': (113.0, 28.21),\n",
       " '海口': (110.35, 20.02),\n",
       " '沈阳': (123.38, 41.8),\n",
       " '长春': (125.35, 43.88),\n",
       " '哈尔滨': (126.63, 45.75),\n",
       " '太原': (112.53, 37.87),\n",
       " '西安': (108.95, 34.27),\n",
       " '台湾': (121.3, 25.03),\n",
       " '北京': (116.46, 39.92),\n",
       " '上海': (121.48, 31.22),\n",
       " '重庆': (106.54, 29.59),\n",
       " '天津': (117.2, 39.13),\n",
       " '呼和浩特': (111.65, 40.82),\n",
       " '南宁': (108.33, 22.84),\n",
       " '西藏': (91.11, 29.97),\n",
       " '银川': (106.27, 38.47),\n",
       " '乌鲁木齐': (87.68, 43.77),\n",
       " '香港': (114.17, 22.28),\n",
       " '澳门': (113.54, 22.19)}"
      ]
     },
     "execution_count": 9,
     "metadata": {},
     "output_type": "execute_result"
    }
   ],
   "source": [
    "city_location"
   ]
  },
  {
   "cell_type": "code",
   "execution_count": 10,
   "metadata": {},
   "outputs": [],
   "source": [
    "import math\n",
    "def geo_distance(origin, destination):\n",
    "    \"\"\"\n",
    "    Calculate the Haversine distance.\n",
    "\n",
    "    Parameters\n",
    "    ----------\n",
    "    origin : tuple of float\n",
    "        (lat, long)\n",
    "    destination : tuple of float\n",
    "        (lat, long)\n",
    "\n",
    "    Returns\n",
    "    -------\n",
    "    distance_in_km : float\n",
    "\n",
    "    Examples\n",
    "    --------\n",
    "    >>> origin = (48.1372, 11.5756)  # Munich\n",
    "    >>> destination = (52.5186, 13.4083)  # Berlin\n",
    "    >>> round(distance(origin, destination), 1)\n",
    "    504.2\n",
    "    \"\"\"\n",
    "    lat1, lon1 = origin\n",
    "    lat2, lon2 = destination\n",
    "    radius = 6371  # km\n",
    "\n",
    "    dlat = math.radians(lat2 - lat1)\n",
    "    dlon = math.radians(lon2 - lon1)\n",
    "    a = (math.sin(dlat / 2) * math.sin(dlat / 2) +\n",
    "         math.cos(math.radians(lat1)) * math.cos(math.radians(lat2)) *\n",
    "         math.sin(dlon / 2) * math.sin(dlon / 2))\n",
    "    c = 2 * math.atan2(math.sqrt(a), math.sqrt(1 - a))\n",
    "    d = radius * c\n",
    "\n",
    "    return d"
   ]
  },
  {
   "cell_type": "code",
   "execution_count": 11,
   "metadata": {},
   "outputs": [],
   "source": [
    "def get_geo_distance(city1,city2):\n",
    "    return geo_distance(city_location[city1],city_location[city2])"
   ]
  },
  {
   "cell_type": "code",
   "execution_count": 12,
   "metadata": {},
   "outputs": [
    {
     "data": {
      "text/plain": [
       "933.9310389667804"
      ]
     },
     "execution_count": 12,
     "metadata": {},
     "output_type": "execute_result"
    }
   ],
   "source": [
    "get_geo_distance('香港','上海')"
   ]
  },
  {
   "cell_type": "code",
   "execution_count": 13,
   "metadata": {},
   "outputs": [],
   "source": [
    "import networkx as nx\n",
    "# 专门做图算法的包"
   ]
  },
  {
   "cell_type": "code",
   "execution_count": 14,
   "metadata": {},
   "outputs": [],
   "source": [
    "city_graph = nx.Graph()\n",
    "# 建图"
   ]
  },
  {
   "cell_type": "code",
   "execution_count": 15,
   "metadata": {},
   "outputs": [],
   "source": [
    "city_graph.add_nodes_from(city_location.keys())"
   ]
  },
  {
   "cell_type": "code",
   "execution_count": 16,
   "metadata": {},
   "outputs": [],
   "source": [
    "%matplotlib inline"
   ]
  },
  {
   "cell_type": "code",
   "execution_count": 17,
   "metadata": {},
   "outputs": [],
   "source": [
    "import matplotlib.pyplot as plt"
   ]
  },
  {
   "cell_type": "code",
   "execution_count": 18,
   "metadata": {},
   "outputs": [],
   "source": [
    "plt.rcParams['font.sans-serif']=['SimHei'] #用来正常显示中文标签"
   ]
  },
  {
   "cell_type": "code",
   "execution_count": 19,
   "metadata": {},
   "outputs": [
    {
     "data": {
      "image/png": "[encoded data removed]",
      "text/plain": [
       "<Figure size 432x288 with 1 Axes>"
      ]
     },
     "metadata": {},
     "output_type": "display_data"
    }
   ],
   "source": [
    "nx.draw(city_graph,city_location,with_labels=True,node_size=30)"
   ]
  },
  {
   "cell_type": "code",
   "execution_count": 62,
   "metadata": {},
   "outputs": [],
   "source": [
    "threshold = 300"
   ]
  },
  {
   "cell_type": "code",
   "execution_count": 63,
   "metadata": {},
   "outputs": [],
   "source": [
    "city_connection = defaultdict(list)"
   ]
  },
  {
   "cell_type": "code",
   "execution_count": 64,
   "metadata": {},
   "outputs": [],
   "source": [
    "for c1 in city_location:\n",
    "    for c2 in city_location:\n",
    "        if c1 == c2: continue\n",
    "        \n",
    "        distance = get_geo_distance(c1,c2)\n",
    "        \n",
    "        if distance <= threshold:\n",
    "            city_connection[c1].append(c2)\n",
    "            city_connection[c2].append(c1)"
   ]
  },
  {
   "cell_type": "code",
   "execution_count": 65,
   "metadata": {},
   "outputs": [
    {
     "data": {
      "text/plain": [
       "defaultdict(list,\n",
       "            {'兰州': ['西宁', '成都', '银川', '西宁', '成都', '银川'],\n",
       "             '西宁': ['兰州', '兰州', '成都', '拉萨', '成都', '拉萨'],\n",
       "             '成都': ['兰州', '西宁', '兰州', '西宁', '拉萨', '重庆', '拉萨', '重庆'],\n",
       "             '银川': ['兰州', '重庆', '兰州', '重庆'],\n",
       "             '拉萨': ['西宁', '成都', '西宁', '成都'],\n",
       "             '重庆': ['成都', '贵阳', '成都', '贵阳', '银川', '银川'],\n",
       "             '石家庄': ['郑州', '济南', '太原', '北京', '郑州', '济南', '太原', '北京'],\n",
       "             '郑州': ['石家庄', '武汉', '石家庄', '武汉', '长沙', '太原', '长沙', '太原'],\n",
       "             '济南': ['石家庄', '石家庄', '合肥', '北京', '天津', '合肥', '北京', '天津'],\n",
       "             '太原': ['石家庄', '郑州', '石家庄', '郑州', '呼和浩特', '呼和浩特'],\n",
       "             '北京': ['石家庄', '济南', '石家庄', '济南', '天津', '天津'],\n",
       "             '贵阳': ['重庆', '南宁', '重庆', '南宁'],\n",
       "             '南宁': ['贵阳', '海口', '贵阳', '海口'],\n",
       "             '武汉': ['郑州', '南昌', '长沙', '郑州', '南昌', '长沙'],\n",
       "             '南昌': ['武汉', '合肥', '武汉', '合肥'],\n",
       "             '长沙': ['武汉',\n",
       "              '郑州',\n",
       "              '广州',\n",
       "              '武汉',\n",
       "              '郑州',\n",
       "              '广州',\n",
       "              '香港',\n",
       "              '澳门',\n",
       "              '香港',\n",
       "              '澳门'],\n",
       "             '合肥': ['济南', '南京', '济南', '南京', '南昌', '南昌'],\n",
       "             '天津': ['济南', '北京', '济南', '北京'],\n",
       "             '南京': ['合肥', '杭州', '合肥', '杭州'],\n",
       "             '杭州': ['南京', '南京', '福州', '上海', '福州', '上海'],\n",
       "             '福州': ['杭州', '杭州', '台湾', '台湾'],\n",
       "             '上海': ['杭州', '杭州'],\n",
       "             '台湾': ['福州', '福州'],\n",
       "             '广州': ['长沙', '香港', '澳门', '长沙', '香港', '澳门'],\n",
       "             '香港': ['广州', '长沙', '广州', '长沙', '澳门', '澳门'],\n",
       "             '澳门': ['广州', '长沙', '香港', '广州', '长沙', '香港'],\n",
       "             '海口': ['南宁', '南宁'],\n",
       "             '沈阳': ['长春', '长春'],\n",
       "             '长春': ['沈阳', '沈阳', '哈尔滨', '哈尔滨'],\n",
       "             '哈尔滨': ['长春', '长春'],\n",
       "             '呼和浩特': ['太原', '太原']})"
      ]
     },
     "execution_count": 65,
     "metadata": {},
     "output_type": "execute_result"
    }
   ],
   "source": [
    "city_connection"
   ]
  },
  {
   "cell_type": "code",
   "execution_count": 67,
   "metadata": {},
   "outputs": [],
   "source": [
    "city_with_road = nx.Graph(city_connection)"
   ]
  },
  {
   "cell_type": "code",
   "execution_count": 68,
   "metadata": {},
   "outputs": [
    {
     "data": {
      "image/png": "[encoded data removed]",
      "text/plain": [
       "<Figure size 432x288 with 1 Axes>"
      ]
     },
     "metadata": {},
     "output_type": "display_data"
    }
   ],
   "source": [
    "nx.draw(city_with_road,city_location,with_labels=True,node_size=10)"
   ]
  },
  {
   "cell_type": "code",
   "execution_count": 20,
   "metadata": {},
   "outputs": [],
   "source": [
    "simple_connection_info = {\n",
    "    '北京':{'太原'},\n",
    "    '太原':{'北京','西安','郑州'},\n",
    "    '兰州':{'西安'},\n",
    "    '西安':{'兰州','长沙','太原'},\n",
    "    '长沙':{'福州','南宁','西安'},\n",
    "    '郑州':{'太原'},\n",
    "    '福州':{'长沙'},\n",
    "    '南宁':{'长沙'}\n",
    "}"
   ]
  },
  {
   "cell_type": "code",
   "execution_count": 21,
   "metadata": {},
   "outputs": [
    {
     "data": {
      "image/png": "[encoded data removed]",
      "text/plain": [
       "<Figure size 432x288 with 1 Axes>"
      ]
     },
     "metadata": {},
     "output_type": "display_data"
    }
   ],
   "source": [
    "nx.draw(nx.Graph(simple_connection_info),city_location,with_labels=True,node_size=10)"
   ]
  },
  {
   "cell_type": "code",
   "execution_count": 93,
   "metadata": {},
   "outputs": [],
   "source": [
    "\"\"\"\n",
    "广度优先\n",
    "\"\"\"\n",
    "def search(start,destination,connection_graph,sort_candidate):\n",
    "    pathes = [[start]]\n",
    "    visited = set()\n",
    "    \n",
    "    while pathes:\n",
    "        path = pathes.pop(0)\n",
    "        frontier = path[-1]\n",
    "        \n",
    "        if frontier in visited: continue\n",
    "            \n",
    "        successors = connection_graph[frontier]  \n",
    "\n",
    "        for city in successors:\n",
    "            if city in visited:continue\n",
    "            new_path = path + [city]\n",
    "            print(new_path)\n",
    "            pathes.append(new_path)\n",
    "            if city == destination: return new_path\n",
    "#             输出 最先到达终点的那条路，即最近路线\n",
    "        visited.add(frontier)  \n",
    "        pathes = sort_candidate(pathes)"
   ]
  },
  {
   "cell_type": "code",
   "execution_count": 82,
   "metadata": {},
   "outputs": [],
   "source": [
    "def transfer_station_first(pathes):\n",
    "#     最少换乘\n",
    "    return sorted(pathes,key=len)"
   ]
  },
  {
   "cell_type": "code",
   "execution_count": 91,
   "metadata": {},
   "outputs": [],
   "source": [
    "def shortest_path_first(pathes):\n",
    "#     最短距离\n",
    "    if distance <= 1: return pathes\n",
    "    def get_path_distance(path):\n",
    "        distance = 0\n",
    "        for station in path[:-1]:\n",
    "#             ?\n",
    "            distance += get_geo_distance(station,path[-1])\n",
    "            \n",
    "        return distance\n",
    "    return sorted(pathes,key=get_path_distance)"
   ]
  },
  {
   "cell_type": "code",
   "execution_count": 89,
   "metadata": {},
   "outputs": [],
   "source": [
    "def transfer_as_much_possible(pathes):\n",
    "#     未实现功能\n",
    "    return sorted(pathes,key=len,reverse=True)"
   ]
  },
  {
   "cell_type": "code",
   "execution_count": 90,
   "metadata": {},
   "outputs": [
    {
     "name": "stdout",
     "output_type": "stream",
     "text": [
      "['北京', '石家庄']\n",
      "['北京', '济南']\n",
      "['北京', '石家庄']\n",
      "['北京', '济南']\n",
      "['北京', '天津']\n",
      "['北京', '天津']\n",
      "['北京', '石家庄', '郑州']\n",
      "['北京', '石家庄', '济南']\n",
      "['北京', '石家庄', '太原']\n",
      "['北京', '石家庄', '郑州']\n",
      "['北京', '石家庄', '济南']\n",
      "['北京', '石家庄', '太原']\n",
      "['北京', '济南', '合肥']\n",
      "['北京', '济南', '天津']\n",
      "['北京', '济南', '合肥']\n",
      "['北京', '济南', '天津']\n",
      "['北京', '石家庄', '郑州', '武汉']\n",
      "['北京', '石家庄', '郑州', '武汉']\n",
      "['北京', '石家庄', '郑州', '长沙']\n",
      "['北京', '石家庄', '郑州', '太原']\n",
      "['北京', '石家庄', '郑州', '长沙']\n",
      "['北京', '石家庄', '郑州', '太原']\n",
      "['北京', '石家庄', '太原', '呼和浩特']\n",
      "['北京', '石家庄', '太原', '呼和浩特']\n",
      "['北京', '济南', '合肥', '南京']\n",
      "['北京', '济南', '合肥', '南京']\n",
      "['北京', '济南', '合肥', '南昌']\n"
     ]
    },
    {
     "data": {
      "text/plain": [
       "['北京', '济南', '合肥', '南昌']"
      ]
     },
     "execution_count": 90,
     "metadata": {},
     "output_type": "execute_result"
    }
   ],
   "source": [
    "search('北京','南昌',city_connection,sort_candidate=transfer_as_much_possible)"
   ]
  },
  {
   "cell_type": "code",
   "execution_count": 94,
   "metadata": {},
   "outputs": [
    {
     "name": "stdout",
     "output_type": "stream",
     "text": [
      "['北京', '石家庄']\n",
      "['北京', '济南']\n",
      "['北京', '石家庄']\n",
      "['北京', '济南']\n",
      "['北京', '天津']\n",
      "['北京', '天津']\n",
      "['北京', '天津', '济南']\n",
      "['北京', '天津', '济南']\n",
      "['北京', '济南', '石家庄']\n",
      "['北京', '济南', '石家庄']\n",
      "['北京', '济南', '合肥']\n",
      "['北京', '济南', '合肥']\n",
      "['北京', '石家庄', '郑州']\n",
      "['北京', '石家庄', '太原']\n",
      "['北京', '石家庄', '郑州']\n",
      "['北京', '石家庄', '太原']\n",
      "['北京', '石家庄', '郑州', '武汉']\n",
      "['北京', '石家庄', '郑州', '武汉']\n",
      "['北京', '石家庄', '郑州', '长沙']\n",
      "['北京', '石家庄', '郑州', '太原']\n",
      "['北京', '石家庄', '郑州', '长沙']\n",
      "['北京', '石家庄', '郑州', '太原']\n",
      "['北京', '济南', '合肥', '南京']\n",
      "['北京', '济南', '合肥', '南京']\n",
      "['北京', '济南', '合肥', '南昌']\n"
     ]
    },
    {
     "data": {
      "text/plain": [
       "['北京', '济南', '合肥', '南昌']"
      ]
     },
     "execution_count": 94,
     "metadata": {},
     "output_type": "execute_result"
    }
   ],
   "source": [
    "search('北京','南昌',city_connection,sort_candidate=shortest_path_first)"
   ]
  },
  {
   "cell_type": "code",
   "execution_count": 74,
   "metadata": {},
   "outputs": [
    {
     "name": "stdout",
     "output_type": "stream",
     "text": [
      "['北京', '石家庄']\n",
      "['北京', '济南']\n",
      "['北京', '天津']\n",
      "['北京', '石家庄', '郑州']\n",
      "['北京', '石家庄', '济南']\n",
      "['北京', '石家庄', '太原']\n",
      "['北京', '济南', '合肥']\n",
      "['北京', '济南', '天津']\n",
      "['北京', '石家庄', '郑州', '武汉']\n",
      "['北京', '石家庄', '郑州', '长沙']\n"
     ]
    },
    {
     "data": {
      "text/plain": [
       "['北京', '石家庄', '郑州', '长沙']"
      ]
     },
     "execution_count": 74,
     "metadata": {},
     "output_type": "execute_result"
    }
   ],
   "source": [
    "search('北京','长沙',city_with_road,sort_candidate=lambda n:n)"
   ]
  },
  {
   "cell_type": "code",
   "execution_count": 23,
   "metadata": {},
   "outputs": [
    {
     "ename": "SyntaxError",
     "evalue": "invalid syntax (<ipython-input-23-c9ae7b6fab83>, line 4)",
     "output_type": "error",
     "traceback": [
      "\u001b[1;36m  File \u001b[1;32m\"<ipython-input-23-c9ae7b6fab83>\"\u001b[1;36m, line \u001b[1;32m4\u001b[0m\n\u001b[1;33m    global visited = set()\u001b[0m\n\u001b[1;37m                   ^\u001b[0m\n\u001b[1;31mSyntaxError\u001b[0m\u001b[1;31m:\u001b[0m invalid syntax\n"
     ]
    }
   ],
   "source": [
    "\"\"\"\n",
    "深度优先\n",
    "\"\"\"\n",
    "def depth_first(start,destination,connection_graph):\n",
    "    visited = set()\n",
    "    path = [[start]]\n",
    "    \n",
    "    while path:\n",
    "        frontier = path.pop(0)\n",
    "        \n",
    "    if frontier in visited: continue\n",
    "    successors = connection_graph[frontier]\n",
    "    for city in successors:\n",
    "        \n",
    "    while pathes:\n",
    "        "
   ]
  },
  {
   "cell_type": "code",
   "execution_count": null,
   "metadata": {},
   "outputs": [],
   "source": [
    "search('北京','福州',simple_connection_info)"
   ]
  },
  {
   "cell_type": "code",
   "execution_count": 24,
   "metadata": {},
   "outputs": [],
   "source": [
    "from collections import defaultdict\n",
    "# 引入默认字典，当key不存在时不会报错，返回空列表"
   ]
  },
  {
   "cell_type": "code",
   "execution_count": 59,
   "metadata": {},
   "outputs": [],
   "source": [
    "def bfs(graph,start):\n",
    "    '''\n",
    "    breath first search                 \n",
    "    '''\n",
    "    visited = [start]\n",
    "    seen = set()\n",
    "    front=[]\n",
    "    while visited:\n",
    "        frontier = visited.pop()\n",
    "#         print(frontier)\n",
    "        front.append(frontier)\n",
    "        if frontier in seen: continue\n",
    "            \n",
    "        for successor in graph[frontier]:\n",
    "            if successor in seen:continue\n",
    "#             print(successor)\n",
    "            visited.append(successor)\n",
    "#           visited = visited + successor\n",
    "#     每次扩展先遍历最新点\n",
    "            print('visited:',visited)\n",
    "            \n",
    "        seen.add(frontier)\n",
    "     \n",
    "    print(front)\n",
    "    return seen"
   ]
  },
  {
   "cell_type": "code",
   "execution_count": 37,
   "metadata": {},
   "outputs": [],
   "source": [
    "number_graph = defaultdict(list)\n",
    "number_graph.update({\n",
    "    1:[2,3],\n",
    "    2:[1,4],\n",
    "    3:[1,5],\n",
    "    4:[2,6],\n",
    "    5:[3,7]\n",
    "})"
   ]
  },
  {
   "cell_type": "code",
   "execution_count": 34,
   "metadata": {},
   "outputs": [
    {
     "name": "stdout",
     "output_type": "stream",
     "text": [
      "太原\n",
      "西安\n",
      "郑州\n",
      "长沙\n",
      "兰州\n",
      "福州\n",
      "南宁\n"
     ]
    },
    {
     "data": {
      "text/plain": [
       "{'兰州', '北京', '南宁', '太原', '福州', '西安', '郑州', '长沙'}"
      ]
     },
     "execution_count": 34,
     "metadata": {},
     "output_type": "execute_result"
    }
   ],
   "source": [
    "bfs(simple_connection_info,'北京')"
   ]
  },
  {
   "cell_type": "code",
   "execution_count": 49,
   "metadata": {},
   "outputs": [
    {
     "name": "stdout",
     "output_type": "stream",
     "text": [
      "1\n",
      "visited: [2]\n",
      "visited: [2, 3]\n",
      "3\n",
      "visited: [2, 5]\n",
      "5\n",
      "visited: [2, 7]\n",
      "7\n",
      "2\n",
      "visited: [4]\n",
      "4\n",
      "visited: [6]\n",
      "6\n"
     ]
    },
    {
     "data": {
      "text/plain": [
       "{1, 2, 3, 4, 5, 6, 7}"
      ]
     },
     "execution_count": 49,
     "metadata": {},
     "output_type": "execute_result"
    }
   ],
   "source": [
    "bfs(number_graph,1)"
   ]
  },
  {
   "cell_type": "code",
   "execution_count": 55,
   "metadata": {},
   "outputs": [],
   "source": [
    "def bfs_(graph,start):\n",
    "    '''\n",
    "    breath first search                 \n",
    "    '''\n",
    "    visited = [start]\n",
    "    post = []\n",
    "    seen = set()\n",
    "    while visited:\n",
    "        frontier = visited.pop()\n",
    "        print(frontier)\n",
    "        post.append(frontier)\n",
    "        if frontier in seen: continue\n",
    "            \n",
    "        for successor in graph[frontier]:\n",
    "            if successor in seen:continue\n",
    "            visited = [successor] + visited\n",
    "#             每次扩展先遍历已经发现的点\n",
    "            print('viaited:',visited)\n",
    "        \n",
    "        seen.add(frontier)\n",
    "    \n",
    "    print(post)\n",
    "    return seen"
   ]
  },
  {
   "cell_type": "code",
   "execution_count": 56,
   "metadata": {},
   "outputs": [
    {
     "name": "stdout",
     "output_type": "stream",
     "text": [
      "1\n",
      "viaited: [2]\n",
      "viaited: [3, 2]\n",
      "2\n",
      "viaited: [4, 3]\n",
      "3\n",
      "viaited: [5, 4]\n",
      "4\n",
      "viaited: [6, 5]\n",
      "5\n",
      "viaited: [7, 6]\n",
      "6\n",
      "7\n",
      "[1, 2, 3, 4, 5, 6, 7]\n"
     ]
    },
    {
     "data": {
      "text/plain": [
       "{1, 2, 3, 4, 5, 6, 7}"
      ]
     },
     "execution_count": 56,
     "metadata": {},
     "output_type": "execute_result"
    }
   ],
   "source": [
    "bfs_(number_graph,1)"
   ]
  },
  {
   "cell_type": "code",
   "execution_count": 57,
   "metadata": {},
   "outputs": [],
   "source": [
    "bitree = defaultdict(list)\n",
    "bitree.update({\n",
    "    1:[2,3],\n",
    "    2:[1,4,5],\n",
    "    3:[1,6,7],\n",
    "    4:[2,8,9],\n",
    "    5:[2,10,11],\n",
    "    6:[3,12]\n",
    "})"
   ]
  },
  {
   "cell_type": "code",
   "execution_count": 60,
   "metadata": {},
   "outputs": [
    {
     "name": "stdout",
     "output_type": "stream",
     "text": [
      "visited: [2]\n",
      "visited: [2, 3]\n",
      "visited: [2, 6]\n",
      "visited: [2, 6, 7]\n",
      "visited: [2, 12]\n",
      "visited: [4]\n",
      "visited: [4, 5]\n",
      "visited: [4, 10]\n",
      "visited: [4, 10, 11]\n",
      "visited: [8]\n",
      "visited: [8, 9]\n",
      "[1, 3, 7, 6, 12, 2, 5, 11, 10, 4, 9, 8]\n"
     ]
    },
    {
     "data": {
      "text/plain": [
       "{1, 2, 3, 4, 5, 6, 7, 8, 9, 10, 11, 12}"
      ]
     },
     "execution_count": 60,
     "metadata": {},
     "output_type": "execute_result"
    }
   ],
   "source": [
    "bfs(bitree,1)"
   ]
  },
  {
   "cell_type": "code",
   "execution_count": 61,
   "metadata": {},
   "outputs": [
    {
     "name": "stdout",
     "output_type": "stream",
     "text": [
      "1\n",
      "viaited: [2]\n",
      "viaited: [3, 2]\n",
      "2\n",
      "viaited: [4, 3]\n",
      "viaited: [5, 4, 3]\n",
      "3\n",
      "viaited: [6, 5, 4]\n",
      "viaited: [7, 6, 5, 4]\n",
      "4\n",
      "viaited: [8, 7, 6, 5]\n",
      "viaited: [9, 8, 7, 6, 5]\n",
      "5\n",
      "viaited: [10, 9, 8, 7, 6]\n",
      "viaited: [11, 10, 9, 8, 7, 6]\n",
      "6\n",
      "viaited: [12, 11, 10, 9, 8, 7]\n",
      "7\n",
      "8\n",
      "9\n",
      "10\n",
      "11\n",
      "12\n",
      "[1, 2, 3, 4, 5, 6, 7, 8, 9, 10, 11, 12]\n"
     ]
    },
    {
     "data": {
      "text/plain": [
       "{1, 2, 3, 4, 5, 6, 7, 8, 9, 10, 11, 12}"
      ]
     },
     "execution_count": 61,
     "metadata": {},
     "output_type": "execute_result"
    }
   ],
   "source": [
    "bfs_(bitree,1)"
   ]
  },
  {
   "cell_type": "code",
   "execution_count": 96,
   "metadata": {},
   "outputs": [],
   "source": [
    "import requests"
   ]
  },
  {
   "cell_type": "code",
   "execution_count": 97,
   "metadata": {},
   "outputs": [],
   "source": [
    "url = 'https://movie.douban.com/subject/25779217/?from=showing'"
   ]
  },
  {
   "cell_type": "code",
   "execution_count": 103,
   "metadata": {},
   "outputs": [],
   "source": [
    "response = requests.get(url)\n",
    "# request 200  返回正确"
   ]
  },
  {
   "cell_type": "code",
   "execution_count": 127,
   "metadata": {},
   "outputs": [],
   "source": [
    "pattern = re.compile(r'<a href=\"(https://movie\\.douban\\.com/subject/\\d+/\\?from=subject-page)\" >')"
   ]
  },
  {
   "cell_type": "code",
   "execution_count": 129,
   "metadata": {},
   "outputs": [],
   "source": [
    "likes = pattern.findall(response.text)"
   ]
  },
  {
   "cell_type": "markdown",
   "metadata": {},
   "source": [
    "### 数据处理，根据信息构建图，封装爬虫函数"
   ]
  },
  {
   "cell_type": "code",
   "execution_count": null,
   "metadata": {},
   "outputs": [],
   "source": []
  }
 ],
 "metadata": {
  "kernelspec": {
   "display_name": "Python 3",
   "language": "python",
   "name": "python3"
  },
  "language_info": {
   "codemirror_mode": {
    "name": "ipython",
    "version": 3
   },
   "file_extension": ".py",
   "mimetype": "text/x-python",
   "name": "python",
   "nbconvert_exporter": "python",
   "pygments_lexer": "ipython3",
   "version": "3.6.9"
  }
 },
 "nbformat": 4,
 "nbformat_minor": 2
}
