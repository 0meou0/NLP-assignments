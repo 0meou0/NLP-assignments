{
 "cells": [
  {
   "cell_type": "code",
   "execution_count": 3,
   "metadata": {},
   "outputs": [],
   "source": [
    "def search(graph,concat_func):\n",
    "    seen = set()\n",
    "    to_visit = ['1']\n",
    "    \n",
    "    while to_visit:\n",
    "        node = to_visit.pop(0)\n",
    "        if node in seen:continue\n",
    "        print(node)\n",
    "        new_node = graph[node]\n",
    "        to_visit = concat_func(new_node,to_visit)\n",
    "\n",
    "def treat_new_nodes_more_important(new_node,to_visit):\n",
    "    return new_node + to_visit\n",
    "\n",
    "def treat_old_nodes_more_important(new_node,to_visit):\n",
    "    return to_visit + new_node\n"
   ]
  },
  {
   "cell_type": "code",
   "execution_count": 5,
   "metadata": {},
   "outputs": [],
   "source": [
    "from functools import partial\n",
    "\n",
    "dfs = partial(search,concat_func=treat_new_nodes_more_important)\n",
    "bfs = partial(search,concat_func=treat_old_nodes_more_important)"
   ]
  },
  {
   "cell_type": "code",
   "execution_count": null,
   "metadata": {},
   "outputs": [],
   "source": []
  }
 ],
 "metadata": {
  "kernelspec": {
   "display_name": "Python 3",
   "language": "python",
   "name": "python3"
  },
  "language_info": {
   "codemirror_mode": {
    "name": "ipython",
    "version": 3
   },
   "file_extension": ".py",
   "mimetype": "text/x-python",
   "name": "python",
   "nbconvert_exporter": "python",
   "pygments_lexer": "ipython3",
   "version": "3.6.9"
  }
 },
 "nbformat": 4,
 "nbformat_minor": 2
}
